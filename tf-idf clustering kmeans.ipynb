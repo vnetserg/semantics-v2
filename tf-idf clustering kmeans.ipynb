{
 "cells": [
  {
   "cell_type": "code",
   "execution_count": 14,
   "metadata": {
    "collapsed": true
   },
   "outputs": [],
   "source": [
    "import datetime, itertools, sys\n",
    "import pandas as ps\n",
    "from subprocess import Popen, PIPE\n",
    "from sklearn.feature_extraction.text import TfidfVectorizer\n",
    "from sklearn.metrics import classification_report\n",
    "from sklearn.cluster import KMeans\n",
    "from scipy.optimize import minimize\n",
    "from pymystem3 import Mystem\n",
    "import nltk"
   ]
  },
  {
   "cell_type": "code",
   "execution_count": 2,
   "metadata": {
    "collapsed": true
   },
   "outputs": [],
   "source": [
    "data = ps.read_csv(\"data/spelled-f.csv\", sep=';', header=None,\n",
    "                   index_col=0,names=['id','title','text','cluster','date','publisher'])"
   ]
  },
  {
   "cell_type": "markdown",
   "metadata": {},
   "source": [
    "## Предварительная очистка данных"
   ]
  },
  {
   "cell_type": "code",
   "execution_count": 3,
   "metadata": {
    "collapsed": false
   },
   "outputs": [
    {
     "name": "stdout",
     "output_type": "stream",
     "text": [
      "Число записей в таблице: 32317\n"
     ]
    }
   ],
   "source": [
    "data = data[~data[\"cluster\"].isin([\"-\", \"S\", \"Standard \"])]\n",
    "print(\"Число записей в таблице:\", len(data))"
   ]
  },
  {
   "cell_type": "code",
   "execution_count": 4,
   "metadata": {
    "collapsed": false
   },
   "outputs": [
    {
     "name": "stdout",
     "output_type": "stream",
     "text": [
      "Самый плотный день - 2016-01-27, число записей: 19846\n"
     ]
    }
   ],
   "source": [
    "day_counts = {}\n",
    "for _, row in data.iterrows():\n",
    "    day_counts[row[\"date\"]] = day_counts.get(row[\"date\"], 0) + 1\n",
    "max_date = max((count, date) for date, count in day_counts.items())[1]\n",
    "print(\"Самый плотный день - {}, число записей: {}\".format(max_date, day_counts[max_date]))"
   ]
  },
  {
   "cell_type": "code",
   "execution_count": 9,
   "metadata": {
    "collapsed": false
   },
   "outputs": [
    {
     "name": "stdout",
     "output_type": "stream",
     "text": [
      "Выбранный день - 2015-09-26, число записей: 25\n"
     ]
    }
   ],
   "source": [
    "appropriate_days = [date for date, count in day_counts.items() if 20 <= count <= 30]\n",
    "ch_day = appropriate_days[0]\n",
    "data_1d = data[data[\"date\"] == ch_day]\n",
    "print(\"Выбранный день - {}, число записей: {}\".format(ch_day, day_counts[ch_day]))"
   ]
  },
  {
   "cell_type": "markdown",
   "metadata": {},
   "source": [
    "## Лемматизация текстов"
   ]
  },
  {
   "cell_type": "code",
   "execution_count": 10,
   "metadata": {
    "collapsed": false
   },
   "outputs": [],
   "source": [
    "m = Mystem()\n",
    "\n",
    "def do_stem(df):\n",
    "    cluster_index = {cluster: i for i, cluster in enumerate(df[\"cluster\"].unique())}\n",
    "    messages = [\"\".join(m.lemmatize(row[\"title\"] + \". \" + row[\"text\"])) for _, row in df.iterrows()]\n",
    "    clusters = [cluster_index[row[\"cluster\"]] for _, row in df.iterrows()]\n",
    "    return messages, clusters, cluster_index"
   ]
  },
  {
   "cell_type": "code",
   "execution_count": 11,
   "metadata": {
    "collapsed": false
   },
   "outputs": [
    {
     "name": "stdout",
     "output_type": "stream",
     "text": [
      "польский мид вызывать для разговор посол россия после его замечание о российский-польский отношение. поляк с удивление и тревога воспринимать высказывать взгляд посол россия в варшава сергей андреев на причина начало второй мировой война.польский министерство иностранный дело вызывать для...\n",
      "\n",
      "25 25\n"
     ]
    }
   ],
   "source": [
    "messages, clusters, cluster_index = do_stem(data_1d)\n",
    "print(messages[0])\n",
    "print(len(messages), len(clusters))"
   ]
  },
  {
   "cell_type": "markdown",
   "metadata": {},
   "source": [
    "## Построение матрицы TF*IDF"
   ]
  },
  {
   "cell_type": "code",
   "execution_count": 12,
   "metadata": {
    "collapsed": false
   },
   "outputs": [
    {
     "name": "stdout",
     "output_type": "stream",
     "text": [
      "(25, 390)\n"
     ]
    }
   ],
   "source": [
    "tfidf_vectorizer = TfidfVectorizer(stop_words=nltk.corpus.stopwords.words('russian'))\n",
    "tfidf_matrix = tfidf_vectorizer.fit_transform(messages)\n",
    "print(tfidf_matrix.shape)"
   ]
  },
  {
   "cell_type": "markdown",
   "metadata": {},
   "source": [
    "## Эксперимент с кластеризацией"
   ]
  },
  {
   "cell_type": "code",
   "execution_count": 13,
   "metadata": {
    "collapsed": false
   },
   "outputs": [
    {
     "name": "stdout",
     "output_type": "stream",
     "text": [
      "Количество кластеров: 11\n"
     ]
    }
   ],
   "source": [
    "print(\"Количество кластеров:\", len(set(clusters)))"
   ]
  },
  {
   "cell_type": "code",
   "execution_count": 22,
   "metadata": {
    "collapsed": true
   },
   "outputs": [],
   "source": [
    "def marks_to_pairwise(y_cls, p_cls):\n",
    "    assert len(y_cls) == len(p_cls)\n",
    "    res = {\"ids\": [], \"y\": [], \"p\": []}\n",
    "    for i1, i2 in itertools.combinations(range(len(y_cls)), 2):\n",
    "        res[\"ids\"].append(sorted((i1, i2)))\n",
    "        res[\"y\"].append(bool(y_cls[i1] == y_cls[i2]))\n",
    "        res[\"p\"].append(bool(p_cls[i1] == p_cls[i2]))\n",
    "    return ps.DataFrame(res, index=None)"
   ]
  },
  {
   "cell_type": "code",
   "execution_count": 17,
   "metadata": {
    "collapsed": true
   },
   "outputs": [],
   "source": [
    "def cross_class_report(res):\n",
    "    classes = res[\"y\"].unique()\n",
    "    table = ps.DataFrame(index=classes, columns=classes)\n",
    "    for true_cls in classes:\n",
    "        tmp = res[res[\"y\"] == true_cls]\n",
    "        for pred_cls in classes:\n",
    "            table[pred_cls][true_cls] = len(tmp[tmp[\"p\"] == pred_cls])\n",
    "    return table"
   ]
  },
  {
   "cell_type": "code",
   "execution_count": 36,
   "metadata": {
    "collapsed": true
   },
   "outputs": [],
   "source": [
    "def print_performance(tfidf_matrix, clusters, n_clusters, seed=42):\n",
    "    km = KMeans(n_clusters=n_clusters, random_state=seed)\n",
    "    km.fit(tfidf_matrix)\n",
    "    res = marks_to_pairwise(clusters, km.labels_.tolist())\n",
    "    print(classification_report(res[\"y\"], res[\"p\"]))\n",
    "    print(cross_class_report(res), \"\\n\\n\")\n",
    "    return res"
   ]
  },
  {
   "cell_type": "code",
   "execution_count": 26,
   "metadata": {
    "collapsed": false
   },
   "outputs": [
    {
     "name": "stdout",
     "output_type": "stream",
     "text": [
      "             precision    recall  f1-score   support\n",
      "\n",
      "      False       1.00      1.00      1.00       283\n",
      "       True       1.00      1.00      1.00        17\n",
      "\n",
      "avg / total       1.00      1.00      1.00       300\n",
      "\n",
      "      False True \n",
      "False   283     0\n",
      "True      0    17 \n",
      "\n",
      "\n"
     ]
    }
   ],
   "source": [
    "print_performance(tfidf_matrix, clusters, 11)"
   ]
  },
  {
   "cell_type": "markdown",
   "metadata": {},
   "source": [
    "## Кластеризация для нескольких дней"
   ]
  },
  {
   "cell_type": "code",
   "execution_count": 27,
   "metadata": {
    "collapsed": true
   },
   "outputs": [],
   "source": [
    "def get_prec_recall_f(res, cls):\n",
    "    pred = res[res[\"p\"] == cls]\n",
    "    prec = len(pred[pred[\"y\"] == cls]) / len(pred)\n",
    "    act = res[res[\"y\"] == cls]\n",
    "    rec = len(act[act[\"p\"] == cls]) / len(act)\n",
    "    return prec, rec, 2/(1/prec + 1/rec)"
   ]
  },
  {
   "cell_type": "code",
   "execution_count": 28,
   "metadata": {
    "collapsed": true
   },
   "outputs": [],
   "source": [
    "def get_data_for_day(day):\n",
    "    data_1d = data[data[\"date\"] == day]\n",
    "    messages, clusters, cluster_index = do_stem(data_1d)\n",
    "    \n",
    "    tfidf_vectorizer = TfidfVectorizer()\n",
    "    tfidf_matrix = tfidf_vectorizer.fit_transform(messages)\n",
    "    \n",
    "    return tfidf_matrix, clusters"
   ]
  },
  {
   "cell_type": "code",
   "execution_count": 47,
   "metadata": {
    "collapsed": false,
    "scrolled": true
   },
   "outputs": [
    {
     "name": "stdout",
     "output_type": "stream",
     "text": [
      "День: 2015-11-29\n",
      "Число новостей: 15\n",
      "Кластеров:8\n",
      "             precision    recall  f1-score   support\n",
      "\n",
      "      False       0.97      0.97      0.97        96\n",
      "       True       0.67      0.67      0.67         9\n",
      "\n",
      "avg / total       0.94      0.94      0.94       105\n",
      "\n",
      "      False True \n",
      "False    93     3\n",
      "True      3     6 \n",
      "\n",
      "\n",
      "День: 2015-09-26\n",
      "Число новостей: 25\n",
      "Кластеров:11\n",
      "             precision    recall  f1-score   support\n",
      "\n",
      "      False       1.00      1.00      1.00       283\n",
      "       True       1.00      1.00      1.00        17\n",
      "\n",
      "avg / total       1.00      1.00      1.00       300\n",
      "\n",
      "      False True \n",
      "False   283     0\n",
      "True      0    17 \n",
      "\n",
      "\n",
      "День: 2015-09-28\n",
      "Число новостей: 51\n",
      "Кластеров:21\n",
      "             precision    recall  f1-score   support\n",
      "\n",
      "      False       1.00      1.00      1.00      1236\n",
      "       True       0.86      0.92      0.89        39\n",
      "\n",
      "avg / total       0.99      0.99      0.99      1275\n",
      "\n",
      "      False True \n",
      "False  1230     6\n",
      "True      3    36 \n",
      "\n",
      "\n",
      "День: 2015-03-28\n",
      "Число новостей: 75\n",
      "Кластеров:29\n",
      "             precision    recall  f1-score   support\n",
      "\n",
      "      False       1.00      1.00      1.00      2712\n",
      "       True       0.88      0.94      0.91        63\n",
      "\n",
      "avg / total       1.00      1.00      1.00      2775\n",
      "\n",
      "      False True \n",
      "False  2704     8\n",
      "True      4    59 \n",
      "\n",
      "\n",
      "День: 2015-08-30\n",
      "Число новостей: 102\n",
      "Кластеров:40\n",
      "             precision    recall  f1-score   support\n",
      "\n",
      "      False       1.00      0.99      1.00      5067\n",
      "       True       0.72      0.82      0.77        84\n",
      "\n",
      "avg / total       0.99      0.99      0.99      5151\n",
      "\n",
      "      False True \n",
      "False  5040    27\n",
      "True     15    69 \n",
      "\n",
      "\n",
      "День: 2015-10-25\n",
      "Число новостей: 144\n",
      "Кластеров:58\n",
      "             precision    recall  f1-score   support\n",
      "\n",
      "      False       1.00      1.00      1.00     10182\n",
      "       True       0.79      0.84      0.81       114\n",
      "\n",
      "avg / total       1.00      1.00      1.00     10296\n",
      "\n",
      "       False True \n",
      "False  10156    26\n",
      "True      18    96 \n",
      "\n",
      "\n",
      "День: 2015-06-25\n",
      "Число новостей: 217\n",
      "Кластеров:90\n",
      "             precision    recall  f1-score   support\n",
      "\n",
      "      False       1.00      1.00      1.00     23272\n",
      "       True       0.74      0.88      0.80       164\n",
      "\n",
      "avg / total       1.00      1.00      1.00     23436\n",
      "\n",
      "       False True \n",
      "False  23220    52\n",
      "True      19   145 \n",
      "\n",
      "\n",
      "День: 2015-05-25\n",
      "Число новостей: 259\n",
      "Кластеров:112\n",
      "             precision    recall  f1-score   support\n",
      "\n",
      "      False       1.00      1.00      1.00     33225\n",
      "       True       0.78      0.86      0.82       186\n",
      "\n",
      "avg / total       1.00      1.00      1.00     33411\n",
      "\n",
      "       False True \n",
      "False  33180    45\n",
      "True      26   160 \n",
      "\n",
      "\n",
      "День: 2015-05-26\n",
      "Число новостей: 315\n",
      "Кластеров:136\n",
      "             precision    recall  f1-score   support\n",
      "\n",
      "      False       1.00      1.00      1.00     49230\n",
      "       True       0.62      0.80      0.70       225\n",
      "\n",
      "avg / total       1.00      1.00      1.00     49455\n",
      "\n",
      "       False True \n",
      "False  49121   109\n",
      "True      46   179 \n",
      "\n",
      "\n",
      "День: 2015-05-30\n",
      "Число новостей: 523\n",
      "Кластеров:223\n",
      "             precision    recall  f1-score   support\n",
      "\n",
      "      False       1.00      1.00      1.00    136121\n",
      "       True       0.57      0.74      0.64       382\n",
      "\n",
      "avg / total       1.00      1.00      1.00    136503\n",
      "\n",
      "        False True \n",
      "False  135905   216\n",
      "True      101   281 \n",
      "\n",
      "\n"
     ]
    }
   ],
   "source": [
    "days_to_check = ['2015-11-29', '2015-09-26', '2015-09-28', '2015-03-28', '2015-08-30',\n",
    "                '2015-10-25', '2015-06-25', '2015-05-25', '2015-05-26', '2015-05-30']\n",
    "scores = []\n",
    "for day in days_to_check:\n",
    "    tfidf_matrix, clusters = get_data_for_day(day)\n",
    "    n_clusters = len(set(clusters))\n",
    "    print(\"День: {}\\nЧисло новостей: {}\\nКластеров:{}\".format(day, tfidf_matrix.shape[0], n_clusters))\n",
    "    res = print_performance(tfidf_matrix, clusters, n_clusters, 42) \n",
    "    prec, recall, f = get_prec_recall_f(res, 1)\n",
    "    scores.append((prec, recall, f, day_counts[day]))"
   ]
  },
  {
   "cell_type": "code",
   "execution_count": 48,
   "metadata": {
    "collapsed": false
   },
   "outputs": [
    {
     "name": "stdout",
     "output_type": "stream",
     "text": [
      "Средняя точность: 0.6355091418602679\n",
      "Средняя полнота: 0.7851515888484846\n",
      "Средняя Ф-мера: 0.7024492219340714\n"
     ]
    }
   ],
   "source": [
    "total_pairs = sum(s[3]*(s[3]-1)//2 for s in scores)\n",
    "avg_prec = sum(prec*(count*(count-1)//2)/total_pairs for prec, _, _, count in scores)\n",
    "avg_rec = sum(rec*(count*(count-1)//2)/total_pairs for _, rec, _, count in scores)\n",
    "avg_f = 2/(1/avg_prec + 1/avg_rec)\n",
    "print(\"Средняя точность:\", avg_prec)\n",
    "print(\"Средняя полнота:\", avg_rec)\n",
    "print(\"Средняя Ф-мера:\", avg_f)"
   ]
  }
 ],
 "metadata": {
  "kernelspec": {
   "display_name": "Python 3",
   "language": "python",
   "name": "python3"
  },
  "language_info": {
   "codemirror_mode": {
    "name": "ipython",
    "version": 3
   },
   "file_extension": ".py",
   "mimetype": "text/x-python",
   "name": "python",
   "nbconvert_exporter": "python",
   "pygments_lexer": "ipython3",
   "version": "3.5.1+"
  }
 },
 "nbformat": 4,
 "nbformat_minor": 0
}
