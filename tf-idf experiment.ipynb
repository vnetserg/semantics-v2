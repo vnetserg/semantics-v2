{
 "cells": [
  {
   "cell_type": "code",
   "execution_count": 7,
   "metadata": {
    "collapsed": true
   },
   "outputs": [],
   "source": [
    "import datetime, itertools, sys\n",
    "import pandas as ps\n",
    "from subprocess import Popen, PIPE\n",
    "from sklearn.feature_extraction.text import TfidfVectorizer\n",
    "from sklearn.metrics.pairwise import cosine_similarity\n",
    "from pymystem3 import Mystem"
   ]
  },
  {
   "cell_type": "code",
   "execution_count": 2,
   "metadata": {
    "collapsed": true
   },
   "outputs": [],
   "source": [
    "data = ps.read_csv(\"data/spelled-f.csv\", sep=';', header=None,\n",
    "                   index_col=0,names=['id','title','text','cluster','date','publisher'])"
   ]
  },
  {
   "cell_type": "markdown",
   "metadata": {},
   "source": [
    "## Предварительная очистка данных"
   ]
  },
  {
   "cell_type": "code",
   "execution_count": 3,
   "metadata": {
    "collapsed": false
   },
   "outputs": [
    {
     "name": "stdout",
     "output_type": "stream",
     "text": [
      "Число записей в таблице: 32317\n"
     ]
    }
   ],
   "source": [
    "data = data[~data[\"cluster\"].isin([\"-\", \"S\", \"Standard \"])]\n",
    "print(\"Число записей в таблице:\", len(data))"
   ]
  },
  {
   "cell_type": "code",
   "execution_count": 5,
   "metadata": {
    "collapsed": false
   },
   "outputs": [
    {
     "name": "stdout",
     "output_type": "stream",
     "text": [
      "Самый плотный день - 2016-01-27, число записей: 19846\n"
     ]
    }
   ],
   "source": [
    "day_counts = {}\n",
    "for _, row in data.iterrows():\n",
    "    day_counts[row[\"date\"]] = day_counts.get(row[\"date\"], 0) + 1\n",
    "max_date = max((count, date) for date, count in day_counts.items())[1]\n",
    "data_1d = data[data[\"date\"] == max_date]\n",
    "print(\"Самый плотный день - {}, число записей: {}\".format(max_date, len(data_1d)))"
   ]
  },
  {
   "cell_type": "markdown",
   "metadata": {},
   "source": [
    "## Лемматизация текстов"
   ]
  },
  {
   "cell_type": "code",
   "execution_count": 8,
   "metadata": {
    "collapsed": false
   },
   "outputs": [],
   "source": [
    "m = Mystem()\n",
    "cluster_index = {cluster: i for i, cluster in enumerate(data[\"cluster\"].unique())}\n",
    "messages = [\"\".join(m.lemmatize(row[\"title\"] + \". \" + row[\"text\"])) for _, row in data_1d.iterrows()]\n",
    "clusters = [cluster_index[row[\"cluster\"]] for _, row in data_1d.iterrows()]"
   ]
  },
  {
   "cell_type": "code",
   "execution_count": 9,
   "metadata": {
    "collapsed": false
   },
   "outputs": [
    {
     "name": "stdout",
     "output_type": "stream",
     "text": [
      "суриков: контактный группа обсуждать реализация минский соглашение. контактный группа по урегулирование на юго-восток украина обсуждать путь практический реализация пункт минский договоренность, сообщать посол рф в белоруссия александр суриков. …сейчас...\n",
      "\n",
      "19846 19846\n"
     ]
    }
   ],
   "source": [
    "print(messages[0])\n",
    "print(len(messages), len(clusters))"
   ]
  },
  {
   "cell_type": "markdown",
   "metadata": {},
   "source": [
    "## Построение матрицы TF*IDF"
   ]
  },
  {
   "cell_type": "code",
   "execution_count": 10,
   "metadata": {
    "collapsed": false
   },
   "outputs": [
    {
     "name": "stdout",
     "output_type": "stream",
     "text": [
      "(19846, 30114)\n"
     ]
    }
   ],
   "source": [
    "tfidf_vectorizer = TfidfVectorizer()\n",
    "tfidf_matrix = tfidf_vectorizer.fit_transform(messages)\n",
    "print(tfidf_matrix.shape)"
   ]
  },
  {
   "cell_type": "markdown",
   "metadata": {},
   "source": [
    "## Эксперимент с косинусовой мерой"
   ]
  },
  {
   "cell_type": "code",
   "execution_count": 25,
   "metadata": {
    "collapsed": false
   },
   "outputs": [
    {
     "name": "stdout",
     "output_type": "stream",
     "text": [
      "Самый большой кластер - 'Ученые выяснили, как формируются озера на Титане, спутнике Сатурна' (10776)\n",
      "Численность - 7\n"
     ]
    }
   ],
   "source": [
    "index_cluster = {index: cluster for cluster, index in cluster_index.items()}\n",
    "cluster_counts = {}\n",
    "for cluster in clusters:\n",
    "    cluster_counts[cluster] = cluster_counts.get(cluster, 0) + 1\n",
    "max_cluster = max((count, cluster) for cluster, count in cluster_counts.items())[1]\n",
    "print(\"Самый большой кластер - '{}' ({})\\nЧисленность - {}\".format(\n",
    "        index_cluster[max_cluster], max_cluster, cluster_counts[max_cluster]))"
   ]
  },
  {
   "cell_type": "code",
   "execution_count": 27,
   "metadata": {
    "collapsed": false
   },
   "outputs": [
    {
     "name": "stdout",
     "output_type": "stream",
     "text": [
      "Все сообщения кластера:\n",
      "\n",
      "  ученый устанавливать причина появление озеро на титан. сделать сравнительный характеристика крупный спутник сатурн с наш планета, ученый удаваться устанавливать причина образование озеро на поверхность титан. …однако в отличие от земной, состоять...\n",
      "\n",
      "  титан по свой структура очень похожий на земля. британский ученый предполагать, что крупный спутник сатурн – титан по свой структура иметь много сходство с земля. …также ряд исследование показывать, что при взаимодействие с магнитный поле...\n",
      "\n",
      "  ученый: атмосфера титан очень похожий на земной. ученый из лондонский университетский колледж утверждать, что атмосфера крупный спутник сатурн - титан очень похожий на земной. …обобщать весь получать данные, исследователь обнаруживать на...\n",
      "\n",
      "  находить причина появление озеро на титан. а вы знать, что на титан, спутник сатурн существовать озеро? долгий время ученый не удаваться раскрывать тайна титан, какой именно образ там появляться озеро.\n",
      "\n",
      "  на титан обнаруживать идентичный земной полярный ветер. на крупный спутник сатурн, титан, обнаруживать полярный ветер. …открытие быть сделать путем обобщение огромный количество данный, собирать спектрометр CAPS, устанавливать на борт...\n",
      "\n",
      "  озеро на титан больше не загадка для ученый: кассинить присылать снимок со спутник сатурн. с помощь космический аппарат «кассинить» удаваться получать изображение, который ложиться в основа определение процесс создание озеро на территория титан, который являться спутник сатурн...\n",
      "\n",
      "  атмосфера крупный спутник сатурн и земля схожий – ученый. в пятница, 19 июнь, британский ученый заявлять, что атмосфера крупный спутник сатурн титан и наш планета иметь много сходство. …спутник сатурн титан уступать по размер лишь спутник...\n",
      "\n"
     ]
    }
   ],
   "source": [
    "print(\"Все сообщения кластера:\\n\")\n",
    "for i, cluster in enumerate(clusters):\n",
    "    if cluster == max_cluster:\n",
    "        print(\"  \" + messages[i])"
   ]
  },
  {
   "cell_type": "code",
   "execution_count": 29,
   "metadata": {
    "collapsed": false
   },
   "outputs": [
    {
     "name": "stdout",
     "output_type": "stream",
     "text": [
      "1.0\n",
      "0.280886938106\n",
      "0.371229636823\n",
      "0.604793443811\n",
      "0.320538977237\n",
      "0.432063765871\n",
      "0.410332287692\n"
     ]
    }
   ],
   "source": [
    "target_messages = [i for i, cluster in enumerate(clusters) if cluster == max_cluster]\n",
    "ind = target_messages[0]\n",
    "sim_factors = cosine_similarity(tfidf_matrix[ind:ind+1], tfidf_matrix)\n",
    "for i in target_messages:\n",
    "    print(sim_factors[0][i])"
   ]
  },
  {
   "cell_type": "code",
   "execution_count": 33,
   "metadata": {
    "collapsed": false
   },
   "outputs": [
    {
     "name": "stdout",
     "output_type": "stream",
     "text": [
      "[(0.2, 12), (0.25, 11), (0.3, 8), (0.35, 5), (0.4, 4), (0.6, 2), (0.8, 1)]\n"
     ]
    }
   ],
   "source": [
    "th_values = (0.8, 0.6, 0.4, 0.35, 0.3, 0.25, 0.2)\n",
    "thresholds = {t: 0 for t in th_values}\n",
    "for sf in sim_factors[0]:\n",
    "    for th in th_values:\n",
    "        if sf >= th:\n",
    "            thresholds[th] += 1\n",
    "print(sorted(thresholds.items()))"
   ]
  },
  {
   "cell_type": "code",
   "execution_count": null,
   "metadata": {
    "collapsed": true
   },
   "outputs": [],
   "source": [
    "sim_factors_full = cosine_similarity(tfidf_matrix, tfidf_matrix)"
   ]
  }
 ],
 "metadata": {
  "kernelspec": {
   "display_name": "Python 3",
   "language": "python",
   "name": "python3"
  },
  "language_info": {
   "codemirror_mode": {
    "name": "ipython",
    "version": 3
   },
   "file_extension": ".py",
   "mimetype": "text/x-python",
   "name": "python",
   "nbconvert_exporter": "python",
   "pygments_lexer": "ipython3",
   "version": "3.5.1+"
  }
 },
 "nbformat": 4,
 "nbformat_minor": 0
}
