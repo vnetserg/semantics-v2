{
 "cells": [
  {
   "cell_type": "code",
   "execution_count": 1,
   "metadata": {
    "collapsed": true
   },
   "outputs": [],
   "source": [
    "import datetime, itertools, sys\n",
    "import pandas as ps\n",
    "from subprocess import Popen, PIPE\n",
    "from sklearn.feature_extraction.text import TfidfVectorizer\n",
    "from sklearn.metrics.pairwise import cosine_similarity\n",
    "from sklearn.metrics import classification_report\n",
    "from scipy.cluster.hierarchy import ward, dendrogram, fcluster\n",
    "from scipy.optimize import minimize\n",
    "import matplotlib.pyplot as plt\n",
    "from pymystem3 import Mystem\n",
    "import nltk"
   ]
  },
  {
   "cell_type": "code",
   "execution_count": 2,
   "metadata": {
    "collapsed": true
   },
   "outputs": [],
   "source": [
    "data = ps.read_csv(\"data/spelled-f.csv\", sep=';', header=None,\n",
    "                   index_col=0,names=['id','title','text','cluster','date','publisher'])"
   ]
  },
  {
   "cell_type": "markdown",
   "metadata": {},
   "source": [
    "## Предварительная очистка данных"
   ]
  },
  {
   "cell_type": "code",
   "execution_count": 3,
   "metadata": {
    "collapsed": false
   },
   "outputs": [
    {
     "name": "stdout",
     "output_type": "stream",
     "text": [
      "Число записей в таблице: 32317\n"
     ]
    }
   ],
   "source": [
    "data = data[~data[\"cluster\"].isin([\"-\", \"S\", \"Standard \"])]\n",
    "print(\"Число записей в таблице:\", len(data))"
   ]
  },
  {
   "cell_type": "code",
   "execution_count": 4,
   "metadata": {
    "collapsed": false
   },
   "outputs": [
    {
     "name": "stdout",
     "output_type": "stream",
     "text": [
      "Самый плотный день - 2016-01-27, число записей: 19846\n"
     ]
    }
   ],
   "source": [
    "day_counts = {}\n",
    "for _, row in data.iterrows():\n",
    "    day_counts[row[\"date\"]] = day_counts.get(row[\"date\"], 0) + 1\n",
    "max_date = max((count, date) for date, count in day_counts.items())[1]\n",
    "print(\"Самый плотный день - {}, число записей: {}\".format(max_date, day_counts[max_date]))"
   ]
  },
  {
   "cell_type": "code",
   "execution_count": 21,
   "metadata": {
    "collapsed": false
   },
   "outputs": [
    {
     "name": "stdout",
     "output_type": "stream",
     "text": [
      "Выбранный день - 2016-02-05, число записей: 3553\n"
     ]
    }
   ],
   "source": [
    "appropriate_days = [date for date, count in day_counts.items() if count == 25]\n",
    "ch_day = \"2016-02-05\" #appropriate_days[0]\n",
    "data_1d = data[data[\"date\"] == ch_day]\n",
    "print(\"Выбранный день - {}, число записей: {}\".format(ch_day, day_counts[ch_day]))"
   ]
  },
  {
   "cell_type": "markdown",
   "metadata": {},
   "source": [
    "## Лемматизация текстов"
   ]
  },
  {
   "cell_type": "code",
   "execution_count": 24,
   "metadata": {
    "collapsed": false
   },
   "outputs": [],
   "source": [
    "m = Mystem()\n",
    "\n",
    "def do_stem(df):\n",
    "    cluster_index = {cluster: i for i, cluster in enumerate(df[\"cluster\"].unique())}\n",
    "    messages = [\"\".join(m.lemmatize(row[\"title\"] + \". \" + row[\"text\"])) for _, row in df.iterrows()]\n",
    "    clusters = [cluster_index[row[\"cluster\"]] for _, row in df.iterrows()]\n",
    "    return messages, clusters, cluster_index"
   ]
  },
  {
   "cell_type": "code",
   "execution_count": 25,
   "metadata": {
    "collapsed": false
   },
   "outputs": [
    {
     "name": "stdout",
     "output_type": "stream",
     "text": [
      "на трасса «ростов-на-дону – таганрог» случаться дтп: большегруз задавливать человек. в район хутор пятихатка в ростовский область на автотрасса «ростов-на-дону – таганрог» происходить дорожно-транспортный происшествие: фура сбивать человек, который от получать травма скончаться на...\n",
      "\n",
      "3553 3553\n"
     ]
    }
   ],
   "source": [
    "messages, clusters, cluster_index = do_stem(data_1d)\n",
    "print(messages[0])\n",
    "print(len(messages), len(clusters))"
   ]
  },
  {
   "cell_type": "markdown",
   "metadata": {},
   "source": [
    "## Построение матрицы TF*IDF"
   ]
  },
  {
   "cell_type": "code",
   "execution_count": 26,
   "metadata": {
    "collapsed": false
   },
   "outputs": [
    {
     "name": "stdout",
     "output_type": "stream",
     "text": [
      "(3553, 7008)\n"
     ]
    }
   ],
   "source": [
    "tfidf_vectorizer = TfidfVectorizer(stop_words=nltk.corpus.stopwords.words('russian'), min_df=2)\n",
    "tfidf_matrix = tfidf_vectorizer.fit_transform(messages)\n",
    "print(tfidf_matrix.shape)"
   ]
  },
  {
   "cell_type": "markdown",
   "metadata": {},
   "source": [
    "## Кластеризация с отсечением на основе расстояния"
   ]
  },
  {
   "cell_type": "code",
   "execution_count": 27,
   "metadata": {
    "collapsed": false
   },
   "outputs": [
    {
     "name": "stdout",
     "output_type": "stream",
     "text": [
      "Количество кластеров: 1456\n"
     ]
    }
   ],
   "source": [
    "print(\"Количество кластеров:\", len(set(clusters)))"
   ]
  },
  {
   "cell_type": "code",
   "execution_count": 13,
   "metadata": {
    "collapsed": true
   },
   "outputs": [],
   "source": [
    "def marks_to_pairwise(y_cls, p_cls):\n",
    "    assert len(y_cls) == len(p_cls)\n",
    "    res = {\"ids\": [], \"y\": [], \"p\": []}\n",
    "    for i1, i2 in itertools.combinations(range(len(y_cls)), 2):\n",
    "        res[\"ids\"].append(sorted((i1, i2)))\n",
    "        res[\"y\"].append(bool(y_cls[i1] == y_cls[i2]))\n",
    "        res[\"p\"].append(bool(p_cls[i1] == p_cls[i2]))\n",
    "    return ps.DataFrame(res, index=None)"
   ]
  },
  {
   "cell_type": "code",
   "execution_count": 14,
   "metadata": {
    "collapsed": true
   },
   "outputs": [],
   "source": [
    "def cross_class_report(res):\n",
    "    classes = res[\"y\"].unique()\n",
    "    table = ps.DataFrame(index=classes, columns=classes)\n",
    "    for true_cls in classes:\n",
    "        tmp = res[res[\"y\"] == true_cls]\n",
    "        for pred_cls in classes:\n",
    "            table[pred_cls][true_cls] = len(tmp[tmp[\"p\"] == pred_cls])\n",
    "    return table"
   ]
  },
  {
   "cell_type": "code",
   "execution_count": 15,
   "metadata": {
    "collapsed": true
   },
   "outputs": [],
   "source": [
    "%matplotlib inline\n",
    "\n",
    "def plot_performance(tfidf_matrix, titles):\n",
    "    dist_matrix = 1 - cosine_similarity(tfidf_matrix)\n",
    "    linkage_matrix = ward(dist_matrix)\n",
    "    \n",
    "    fig, ax = plt.subplots(figsize=(15, 20))\n",
    "    ax = dendrogram(linkage_matrix, orientation=\"right\", labels=titles)\n",
    "    \n",
    "    plt.tick_params(\\\n",
    "        axis= 'x',          # changes apply to the x-axis\n",
    "        which='both',      # both major and minor ticks are affected\n",
    "        bottom='off',      # ticks along the bottom edge are off\n",
    "        top='off',         # ticks along the top edge are off\n",
    "        labelbottom='off')\n",
    "\n",
    "    plt.tight_layout() #show plot with tight layout\n",
    "    return linkage_matrix"
   ]
  },
  {
   "cell_type": "code",
   "execution_count": 16,
   "metadata": {
    "collapsed": true
   },
   "outputs": [],
   "source": [
    "def print_performance(tfidf_matrix, clusters, cutoff):\n",
    "    dist_matrix = 1 - cosine_similarity(tfidf_matrix)\n",
    "    linkage_matrix = ward(dist_matrix)\n",
    "    labels = fcluster(linkage_matrix, cutoff, criterion='distance')\n",
    "    res = marks_to_pairwise(clusters, labels)\n",
    "    print(classification_report(res[\"y\"], res[\"p\"]))\n",
    "    print(cross_class_report(res), \"\\n\\n\")\n",
    "    return res"
   ]
  },
  {
   "cell_type": "code",
   "execution_count": 32,
   "metadata": {
    "collapsed": false,
    "scrolled": true
   },
   "outputs": [
    {
     "name": "stdout",
     "output_type": "stream",
     "text": [
      "             precision    recall  f1-score   support\n",
      "\n",
      "      False       1.00      1.00      1.00   6307362\n",
      "       True       0.70      0.72      0.71      2766\n",
      "\n",
      "avg / total       1.00      1.00      1.00   6310128\n",
      "\n",
      "         False True \n",
      "False  6306486   876\n",
      "True       762  2004 \n",
      "\n",
      "\n"
     ]
    }
   ],
   "source": [
    "#_ = plot_performance(tfidf_matrix, [row[\"title\"] for _, row in data_1d.iterrows()])\n",
    "_ = print_performance(tfidf_matrix, clusters, 1.75)"
   ]
  },
  {
   "cell_type": "markdown",
   "metadata": {},
   "source": [
    "## Отсечение на основе расстояния для нескольких дней"
   ]
  },
  {
   "cell_type": "code",
   "execution_count": 15,
   "metadata": {
    "collapsed": true
   },
   "outputs": [],
   "source": [
    "def get_prec_recall_f(res, cls):\n",
    "    pred = res[res[\"p\"] == cls]\n",
    "    prec = len(pred[pred[\"y\"] == cls]) / len(pred)\n",
    "    act = res[res[\"y\"] == cls]\n",
    "    rec = len(act[act[\"p\"] == cls]) / len(act)\n",
    "    return prec, rec, 2/(1/prec + 1/rec)"
   ]
  },
  {
   "cell_type": "code",
   "execution_count": 16,
   "metadata": {
    "collapsed": true
   },
   "outputs": [],
   "source": [
    "def get_data_for_day(day):\n",
    "    data_1d = data[data[\"date\"] == day]\n",
    "    messages, clusters, cluster_index = do_stem(data_1d)\n",
    "    \n",
    "    tfidf_vectorizer = TfidfVectorizer()\n",
    "    tfidf_matrix = tfidf_vectorizer.fit_transform(messages)\n",
    "    \n",
    "    return tfidf_matrix, clusters"
   ]
  },
  {
   "cell_type": "code",
   "execution_count": 17,
   "metadata": {
    "collapsed": true
   },
   "outputs": [],
   "source": [
    "def get_avg_prec_rec_f(scores):\n",
    "    total_pairs = sum(s[3]*(s[3]-1)//2 for s in scores)\n",
    "    avg_prec = sum(prec*(count*(count-1)//2)/total_pairs for prec, _, _, count in scores)\n",
    "    avg_rec = sum(rec*(count*(count-1)//2)/total_pairs for _, rec, _, count in scores)\n",
    "    avg_f = 2/(1/avg_prec + 1/avg_rec)\n",
    "    return avg_prec, avg_rec, avg_f"
   ]
  },
  {
   "cell_type": "code",
   "execution_count": 101,
   "metadata": {
    "collapsed": false,
    "scrolled": true
   },
   "outputs": [
    {
     "name": "stdout",
     "output_type": "stream",
     "text": [
      "День: 2015-11-29\n",
      "Число новостей: 15\n",
      "Кластеров:8\n",
      "             precision    recall  f1-score   support\n",
      "\n",
      "      False       0.98      0.97      0.97        96\n",
      "       True       0.70      0.78      0.74         9\n",
      "\n",
      "avg / total       0.96      0.95      0.95       105\n",
      "\n",
      "      False True \n",
      "False    93     3\n",
      "True      2     7 \n",
      "\n",
      "\n",
      "День: 2015-09-26\n",
      "Число новостей: 25\n",
      "Кластеров:11\n",
      "             precision    recall  f1-score   support\n",
      "\n",
      "      False       1.00      1.00      1.00       283\n",
      "       True       1.00      1.00      1.00        17\n",
      "\n",
      "avg / total       1.00      1.00      1.00       300\n",
      "\n",
      "      False True \n",
      "False   283     0\n",
      "True      0    17 \n",
      "\n",
      "\n",
      "День: 2015-09-28\n",
      "Число новостей: 51\n",
      "Кластеров:21\n",
      "             precision    recall  f1-score   support\n",
      "\n",
      "      False       1.00      1.00      1.00      1236\n",
      "       True       1.00      0.95      0.97        39\n",
      "\n",
      "avg / total       1.00      1.00      1.00      1275\n",
      "\n",
      "      False True \n",
      "False  1236     0\n",
      "True      2    37 \n",
      "\n",
      "\n",
      "День: 2015-03-28\n",
      "Число новостей: 75\n",
      "Кластеров:29\n",
      "             precision    recall  f1-score   support\n",
      "\n",
      "      False       1.00      1.00      1.00      2712\n",
      "       True       0.97      0.94      0.95        63\n",
      "\n",
      "avg / total       1.00      1.00      1.00      2775\n",
      "\n",
      "      False True \n",
      "False  2710     2\n",
      "True      4    59 \n",
      "\n",
      "\n",
      "День: 2015-08-30\n",
      "Число новостей: 102\n",
      "Кластеров:40\n",
      "             precision    recall  f1-score   support\n",
      "\n",
      "      False       1.00      1.00      1.00      5067\n",
      "       True       0.93      0.89      0.91        84\n",
      "\n",
      "avg / total       1.00      1.00      1.00      5151\n",
      "\n",
      "      False True \n",
      "False  5061     6\n",
      "True      9    75 \n",
      "\n",
      "\n",
      "День: 2015-10-25\n",
      "Число новостей: 144\n",
      "Кластеров:58\n",
      "             precision    recall  f1-score   support\n",
      "\n",
      "      False       1.00      1.00      1.00     10182\n",
      "       True       0.91      0.89      0.90       114\n",
      "\n",
      "avg / total       1.00      1.00      1.00     10296\n",
      "\n",
      "       False True \n",
      "False  10172    10\n",
      "True      13   101 \n",
      "\n",
      "\n",
      "День: 2015-06-25\n",
      "Число новостей: 217\n",
      "Кластеров:90\n",
      "             precision    recall  f1-score   support\n",
      "\n",
      "      False       1.00      1.00      1.00     23272\n",
      "       True       0.87      0.92      0.89       164\n",
      "\n",
      "avg / total       1.00      1.00      1.00     23436\n",
      "\n",
      "       False True \n",
      "False  23249    23\n",
      "True      13   151 \n",
      "\n",
      "\n",
      "День: 2015-05-25\n",
      "Число новостей: 259\n",
      "Кластеров:112\n",
      "             precision    recall  f1-score   support\n",
      "\n",
      "      False       1.00      1.00      1.00     33225\n",
      "       True       0.85      0.87      0.86       186\n",
      "\n",
      "avg / total       1.00      1.00      1.00     33411\n",
      "\n",
      "       False True \n",
      "False  33197    28\n",
      "True      25   161 \n",
      "\n",
      "\n",
      "День: 2015-05-26\n",
      "Число новостей: 315\n",
      "Кластеров:136\n",
      "             precision    recall  f1-score   support\n",
      "\n",
      "      False       1.00      1.00      1.00     49230\n",
      "       True       0.72      0.83      0.77       225\n",
      "\n",
      "avg / total       1.00      1.00      1.00     49455\n",
      "\n",
      "       False True \n",
      "False  49156    74\n",
      "True      39   186 \n",
      "\n",
      "\n",
      "День: 2015-05-30\n",
      "Число новостей: 523\n",
      "Кластеров:223\n",
      "             precision    recall  f1-score   support\n",
      "\n",
      "      False       1.00      1.00      1.00    136121\n",
      "       True       0.60      0.81      0.69       382\n",
      "\n",
      "avg / total       1.00      1.00      1.00    136503\n",
      "\n",
      "        False True \n",
      "False  135915   206\n",
      "True       71   311 \n",
      "\n",
      "\n"
     ]
    }
   ],
   "source": [
    "days_to_check = ['2015-11-29', '2015-09-26', '2015-09-28', '2015-03-28', '2015-08-30',\n",
    "                '2015-10-25', '2015-06-25', '2015-05-25', '2015-05-26', '2015-05-30']\n",
    "all_res = []\n",
    "#for day in all_days:\n",
    "for day in days_to_check:\n",
    "    tfidf_matrix, clusters = get_data_for_day(day)\n",
    "    print(\"День: {}\\nЧисло новостей: {}\\nКластеров:{}\".format(day, tfidf_matrix.shape[0], len(set(clusters))))\n",
    "    res = print_performance(tfidf_matrix, clusters, 1.39) \n",
    "    all_res.append(res)"
   ]
  },
  {
   "cell_type": "code",
   "execution_count": 19,
   "metadata": {
    "collapsed": false
   },
   "outputs": [
    {
     "name": "stdout",
     "output_type": "stream",
     "text": [
      "             precision    recall  f1-score   support\n",
      "\n",
      "      False       1.00      1.00      1.00    261424\n",
      "       True       0.76      0.86      0.81      1283\n",
      "\n",
      "avg / total       1.00      1.00      1.00    262707\n",
      "\n",
      "        False True \n",
      "False  261068   356\n",
      "True      174  1109 \n",
      "\n",
      "\n"
     ]
    }
   ],
   "source": [
    "total_res = ps.concat(all_res)\n",
    "print(classification_report(total_res[\"y\"], total_res[\"p\"]))\n",
    "print(cross_class_report(total_res), \"\\n\\n\")"
   ]
  },
  {
   "cell_type": "markdown",
   "metadata": {},
   "source": [
    "## Отсечение на основе размера кластера"
   ]
  },
  {
   "cell_type": "code",
   "execution_count": 85,
   "metadata": {
    "collapsed": true
   },
   "outputs": [],
   "source": [
    "def get_labels(linkage_matrix, n_samples, max_cls_size, cutoff=None):\n",
    "    clusters = {i: [i] for i in range(n_samples)}\n",
    "    for i, row in enumerate(linkage_matrix):\n",
    "        c1, c2, dist, cls_size = row\n",
    "        if cutoff and dist > cutoff:\n",
    "            break\n",
    "        if cls_size <= max_cls_size:\n",
    "            clusters[n_samples+i] = clusters[c1] + clusters[c2]\n",
    "            del clusters[c1]\n",
    "            del clusters[c2]\n",
    "    labels = [None] * n_samples\n",
    "    for cls_num, objects in clusters.items():\n",
    "        for o in objects:\n",
    "            labels[o] = cls_num\n",
    "    return labels"
   ]
  },
  {
   "cell_type": "code",
   "execution_count": 87,
   "metadata": {
    "collapsed": true
   },
   "outputs": [],
   "source": [
    "def print_performance_clsize(tfidf_matrix, clusters, max_clsize, cutoff=None):\n",
    "    dist_matrix = 1 - cosine_similarity(tfidf_matrix)\n",
    "    linkage_matrix = ward(dist_matrix)\n",
    "    labels = get_labels(linkage_matrix, tfidf_matrix.shape[0], max_clsize, cutoff)\n",
    "    res = marks_to_pairwise(clusters, labels)\n",
    "    print(classification_report(res[\"y\"], res[\"p\"]))\n",
    "    print(cross_class_report(res), \"\\n\\n\")\n",
    "    return res"
   ]
  },
  {
   "cell_type": "code",
   "execution_count": 22,
   "metadata": {
    "collapsed": false
   },
   "outputs": [
    {
     "name": "stdout",
     "output_type": "stream",
     "text": [
      "День: 2015-05-30\n",
      "Число новостей: 25\n",
      "Кластеров:11\n",
      "             precision    recall  f1-score   support\n",
      "\n",
      "      False       1.00      1.00      1.00       283\n",
      "       True       1.00      1.00      1.00        17\n",
      "\n",
      "avg / total       1.00      1.00      1.00       300\n",
      "\n",
      "      False True \n",
      "False   283     0\n",
      "True      0    17 \n",
      "\n",
      "\n"
     ]
    }
   ],
   "source": [
    "tfidf_matrix, clusters = get_data_for_day(\"2015-09-26\")\n",
    "print(\"День: {}\\nЧисло новостей: {}\\nКластеров:{}\".format(day, tfidf_matrix.shape[0], len(set(clusters))))\n",
    "_ = print_performance_clsize(tfidf_matrix, clusters, 3)"
   ]
  },
  {
   "cell_type": "code",
   "execution_count": 109,
   "metadata": {
    "collapsed": false,
    "scrolled": true
   },
   "outputs": [
    {
     "name": "stdout",
     "output_type": "stream",
     "text": [
      "День: 2015-11-29\n",
      "Число новостей: 15\n",
      "Кластеров:8\n",
      "             precision    recall  f1-score   support\n",
      "\n",
      "      False       0.98      0.95      0.96        96\n",
      "       True       0.58      0.78      0.67         9\n",
      "\n",
      "avg / total       0.94      0.93      0.94       105\n",
      "\n",
      "      False True \n",
      "False    91     5\n",
      "True      2     7 \n",
      "\n",
      "\n",
      "День: 2015-09-26\n",
      "Число новостей: 25\n",
      "Кластеров:11\n",
      "             precision    recall  f1-score   support\n",
      "\n",
      "      False       1.00      1.00      1.00       283\n",
      "       True       1.00      1.00      1.00        17\n",
      "\n",
      "avg / total       1.00      1.00      1.00       300\n",
      "\n",
      "      False True \n",
      "False   283     0\n",
      "True      0    17 \n",
      "\n",
      "\n",
      "День: 2015-09-28\n",
      "Число новостей: 51\n",
      "Кластеров:21\n",
      "             precision    recall  f1-score   support\n",
      "\n",
      "      False       1.00      1.00      1.00      1236\n",
      "       True       1.00      1.00      1.00        39\n",
      "\n",
      "avg / total       1.00      1.00      1.00      1275\n",
      "\n",
      "      False True \n",
      "False  1236     0\n",
      "True      0    39 \n",
      "\n",
      "\n",
      "День: 2015-03-28\n",
      "Число новостей: 75\n",
      "Кластеров:29\n",
      "             precision    recall  f1-score   support\n",
      "\n",
      "      False       1.00      1.00      1.00      2712\n",
      "       True       0.97      0.97      0.97        63\n",
      "\n",
      "avg / total       1.00      1.00      1.00      2775\n",
      "\n",
      "      False True \n",
      "False  2710     2\n",
      "True      2    61 \n",
      "\n",
      "\n",
      "День: 2015-08-30\n",
      "Число новостей: 102\n",
      "Кластеров:40\n",
      "             precision    recall  f1-score   support\n",
      "\n",
      "      False       1.00      1.00      1.00      5067\n",
      "       True       0.92      0.87      0.90        84\n",
      "\n",
      "avg / total       1.00      1.00      1.00      5151\n",
      "\n",
      "      False True \n",
      "False  5061     6\n",
      "True     11    73 \n",
      "\n",
      "\n",
      "День: 2015-10-25\n",
      "Число новостей: 144\n",
      "Кластеров:58\n",
      "             precision    recall  f1-score   support\n",
      "\n",
      "      False       1.00      1.00      1.00     10182\n",
      "       True       0.93      0.89      0.91       114\n",
      "\n",
      "avg / total       1.00      1.00      1.00     10296\n",
      "\n",
      "       False True \n",
      "False  10174     8\n",
      "True      13   101 \n",
      "\n",
      "\n",
      "День: 2015-06-25\n",
      "Число новостей: 217\n",
      "Кластеров:90\n",
      "             precision    recall  f1-score   support\n",
      "\n",
      "      False       1.00      1.00      1.00     23272\n",
      "       True       0.91      0.90      0.91       164\n",
      "\n",
      "avg / total       1.00      1.00      1.00     23436\n",
      "\n",
      "       False True \n",
      "False  23258    14\n",
      "True      16   148 \n",
      "\n",
      "\n",
      "День: 2015-05-25\n",
      "Число новостей: 259\n",
      "Кластеров:112\n",
      "             precision    recall  f1-score   support\n",
      "\n",
      "      False       1.00      1.00      1.00     33225\n",
      "       True       0.85      0.85      0.85       186\n",
      "\n",
      "avg / total       1.00      1.00      1.00     33411\n",
      "\n",
      "       False True \n",
      "False  33197    28\n",
      "True      28   158 \n",
      "\n",
      "\n",
      "День: 2015-05-26\n",
      "Число новостей: 315\n",
      "Кластеров:136\n",
      "             precision    recall  f1-score   support\n",
      "\n",
      "      False       1.00      1.00      1.00     49230\n",
      "       True       0.79      0.80      0.79       225\n",
      "\n",
      "avg / total       1.00      1.00      1.00     49455\n",
      "\n",
      "       False True \n",
      "False  49181    49\n",
      "True      46   179 \n",
      "\n",
      "\n",
      "День: 2015-05-30\n",
      "Число новостей: 523\n",
      "Кластеров:223\n",
      "             precision    recall  f1-score   support\n",
      "\n",
      "      False       1.00      1.00      1.00    136121\n",
      "       True       0.68      0.68      0.68       382\n",
      "\n",
      "avg / total       1.00      1.00      1.00    136503\n",
      "\n",
      "        False True \n",
      "False  136001   120\n",
      "True      124   258 \n",
      "\n",
      "\n"
     ]
    }
   ],
   "source": [
    "days_to_check = ['2015-11-29', '2015-09-26', '2015-09-28', '2015-03-28', '2015-08-30',\n",
    "                '2015-10-25', '2015-06-25', '2015-05-25', '2015-05-26', '2015-05-30']\n",
    "all_res = []\n",
    "for day in days_to_check:\n",
    "    tfidf_matrix, clusters = get_data_for_day(day)\n",
    "    print(\"День: {}\\nЧисло новостей: {}\\nКластеров:{}\".format(day, tfidf_matrix.shape[0], len(set(clusters))))\n",
    "    res = print_performance_clsize(tfidf_matrix, clusters, 3) \n",
    "    all_res.append(res)"
   ]
  },
  {
   "cell_type": "code",
   "execution_count": 24,
   "metadata": {
    "collapsed": false
   },
   "outputs": [
    {
     "name": "stdout",
     "output_type": "stream",
     "text": [
      "             precision    recall  f1-score   support\n",
      "\n",
      "      False       1.00      1.00      1.00    261424\n",
      "       True       0.82      0.81      0.81      1283\n",
      "\n",
      "avg / total       1.00      1.00      1.00    262707\n",
      "\n",
      "        False True \n",
      "False  261192   232\n",
      "True      242  1041 \n",
      "\n",
      "\n"
     ]
    }
   ],
   "source": [
    "total_res = ps.concat(all_res)\n",
    "print(classification_report(total_res[\"y\"], total_res[\"p\"]))\n",
    "print(cross_class_report(total_res), \"\\n\\n\")"
   ]
  },
  {
   "cell_type": "markdown",
   "metadata": {},
   "source": [
    "## Проверка производительности на почти всей выборке"
   ]
  },
  {
   "cell_type": "code",
   "execution_count": 145,
   "metadata": {
    "collapsed": false
   },
   "outputs": [
    {
     "name": "stdout",
     "output_type": "stream",
     "text": [
      "Всего дней: 45\n"
     ]
    }
   ],
   "source": [
    "all_days = sorted([day for day, count in day_counts.items() if count <= 4000],\n",
    "                  key=lambda day: day_counts[day])\n",
    "print(\"Всего дней:\", len(all_days))"
   ]
  },
  {
   "cell_type": "code",
   "execution_count": 26,
   "metadata": {
    "collapsed": true
   },
   "outputs": [],
   "source": [
    "def print_performance_for_days(days, cutoff):\n",
    "    all_res = []\n",
    "    for day in days:\n",
    "        tfidf_matrix, clusters = get_data_for_day(day)\n",
    "        dist_matrix = 1 - cosine_similarity(tfidf_matrix)\n",
    "        linkage_matrix = ward(dist_matrix)\n",
    "        labels = fcluster(linkage_matrix, cutoff, criterion='distance')\n",
    "        res = marks_to_pairwise(clusters, labels)\n",
    "        all_res.append(res)\n",
    "    total_res = ps.concat(all_res)\n",
    "    print(classification_report(total_res[\"y\"], total_res[\"p\"]))\n",
    "    print(cross_class_report(total_res))\n",
    "    return res"
   ]
  },
  {
   "cell_type": "code",
   "execution_count": 56,
   "metadata": {
    "collapsed": false
   },
   "outputs": [
    {
     "name": "stdout",
     "output_type": "stream",
     "text": [
      "             precision    recall  f1-score   support\n",
      "\n",
      "      False       1.00      1.00      1.00    374572\n",
      "       True       0.86      0.91      0.89      2962\n",
      "\n",
      "avg / total       1.00      1.00      1.00    377534\n",
      "\n",
      "      True    False\n",
      "True   2695     267\n",
      "False   427  374145\n"
     ]
    }
   ],
   "source": [
    "res = print_performance_for_days(all_days, 1.39)"
   ]
  },
  {
   "cell_type": "code",
   "execution_count": 118,
   "metadata": {
    "collapsed": true
   },
   "outputs": [],
   "source": [
    "def print_performance_for_days_clsize(days, max_clsize, cutoff=None):\n",
    "    all_res = []\n",
    "    for day in days:\n",
    "        tfidf_matrix, clusters = get_data_for_day(day)\n",
    "        dist_matrix = 1 - cosine_similarity(tfidf_matrix)\n",
    "        linkage_matrix = ward(dist_matrix)\n",
    "        labels = get_labels(linkage_matrix, tfidf_matrix.shape[0], max_clsize, cutoff)\n",
    "        res = marks_to_pairwise(clusters, labels)\n",
    "        all_res.append(res)\n",
    "    total_res = ps.concat(all_res)\n",
    "    print(classification_report(total_res[\"y\"], total_res[\"p\"]))\n",
    "    print(cross_class_report(total_res))\n",
    "    return res"
   ]
  },
  {
   "cell_type": "code",
   "execution_count": 148,
   "metadata": {
    "collapsed": false
   },
   "outputs": [
    {
     "name": "stdout",
     "output_type": "stream",
     "text": [
      "             precision    recall  f1-score   support\n",
      "\n",
      "      False       1.00      1.00      1.00   9529026\n",
      "       True       0.76      0.71      0.74      9448\n",
      "\n",
      "avg / total       1.00      1.00      1.00   9538474\n",
      "\n",
      "      True     False\n",
      "True   6703     2745\n",
      "False  2082  9526944\n",
      "             precision    recall  f1-score   support\n",
      "\n",
      "      False       1.00      1.00      1.00   9529026\n",
      "       True       0.75      0.71      0.73      9448\n",
      "\n",
      "avg / total       1.00      1.00      1.00   9538474\n",
      "\n",
      "      True     False\n",
      "True   6745     2703\n",
      "False  2220  9526806\n"
     ]
    },
    {
     "ename": "KeyboardInterrupt",
     "evalue": "",
     "output_type": "error",
     "traceback": [
      "\u001b[1;31m---------------------------------------------------------------------------\u001b[0m",
      "\u001b[1;31mKeyboardInterrupt\u001b[0m                         Traceback (most recent call last)",
      "\u001b[1;32m<ipython-input-148-57eddd7f5f93>\u001b[0m in \u001b[0;36m<module>\u001b[1;34m()\u001b[0m\n\u001b[0;32m      1\u001b[0m \u001b[0mres\u001b[0m \u001b[1;33m=\u001b[0m \u001b[0mprint_performance_for_days_clsize\u001b[0m\u001b[1;33m(\u001b[0m\u001b[0mall_days\u001b[0m\u001b[1;33m,\u001b[0m \u001b[1;36m3\u001b[0m\u001b[1;33m,\u001b[0m \u001b[1;36m1.8\u001b[0m\u001b[1;33m)\u001b[0m\u001b[1;33m\u001b[0m\u001b[0m\n\u001b[0;32m      2\u001b[0m \u001b[0mres\u001b[0m \u001b[1;33m=\u001b[0m \u001b[0mprint_performance_for_days_clsize\u001b[0m\u001b[1;33m(\u001b[0m\u001b[0mall_days\u001b[0m\u001b[1;33m,\u001b[0m \u001b[1;36m3\u001b[0m\u001b[1;33m,\u001b[0m \u001b[1;36m1.9\u001b[0m\u001b[1;33m)\u001b[0m\u001b[1;33m\u001b[0m\u001b[0m\n\u001b[1;32m----> 3\u001b[1;33m \u001b[0mres\u001b[0m \u001b[1;33m=\u001b[0m \u001b[0mprint_performance_for_days_clsize\u001b[0m\u001b[1;33m(\u001b[0m\u001b[0mall_days\u001b[0m\u001b[1;33m,\u001b[0m \u001b[1;36m3\u001b[0m\u001b[1;33m,\u001b[0m \u001b[1;36m2.0\u001b[0m\u001b[1;33m)\u001b[0m\u001b[1;33m\u001b[0m\u001b[0m\n\u001b[0m",
      "\u001b[1;32m<ipython-input-118-ff21c65a2e5e>\u001b[0m in \u001b[0;36mprint_performance_for_days_clsize\u001b[1;34m(days, max_clsize, cutoff)\u001b[0m\n\u001b[0;32m      2\u001b[0m     \u001b[0mall_res\u001b[0m \u001b[1;33m=\u001b[0m \u001b[1;33m[\u001b[0m\u001b[1;33m]\u001b[0m\u001b[1;33m\u001b[0m\u001b[0m\n\u001b[0;32m      3\u001b[0m     \u001b[1;32mfor\u001b[0m \u001b[0mday\u001b[0m \u001b[1;32min\u001b[0m \u001b[0mdays\u001b[0m\u001b[1;33m:\u001b[0m\u001b[1;33m\u001b[0m\u001b[0m\n\u001b[1;32m----> 4\u001b[1;33m         \u001b[0mtfidf_matrix\u001b[0m\u001b[1;33m,\u001b[0m \u001b[0mclusters\u001b[0m \u001b[1;33m=\u001b[0m \u001b[0mget_data_for_day\u001b[0m\u001b[1;33m(\u001b[0m\u001b[0mday\u001b[0m\u001b[1;33m)\u001b[0m\u001b[1;33m\u001b[0m\u001b[0m\n\u001b[0m\u001b[0;32m      5\u001b[0m         \u001b[0mdist_matrix\u001b[0m \u001b[1;33m=\u001b[0m \u001b[1;36m1\u001b[0m \u001b[1;33m-\u001b[0m \u001b[0mcosine_similarity\u001b[0m\u001b[1;33m(\u001b[0m\u001b[0mtfidf_matrix\u001b[0m\u001b[1;33m)\u001b[0m\u001b[1;33m\u001b[0m\u001b[0m\n\u001b[0;32m      6\u001b[0m         \u001b[0mlinkage_matrix\u001b[0m \u001b[1;33m=\u001b[0m \u001b[0mward\u001b[0m\u001b[1;33m(\u001b[0m\u001b[0mdist_matrix\u001b[0m\u001b[1;33m)\u001b[0m\u001b[1;33m\u001b[0m\u001b[0m\n",
      "\u001b[1;32m<ipython-input-16-7db51a71ab58>\u001b[0m in \u001b[0;36mget_data_for_day\u001b[1;34m(day)\u001b[0m\n\u001b[0;32m      1\u001b[0m \u001b[1;32mdef\u001b[0m \u001b[0mget_data_for_day\u001b[0m\u001b[1;33m(\u001b[0m\u001b[0mday\u001b[0m\u001b[1;33m)\u001b[0m\u001b[1;33m:\u001b[0m\u001b[1;33m\u001b[0m\u001b[0m\n\u001b[0;32m      2\u001b[0m     \u001b[0mdata_1d\u001b[0m \u001b[1;33m=\u001b[0m \u001b[0mdata\u001b[0m\u001b[1;33m[\u001b[0m\u001b[0mdata\u001b[0m\u001b[1;33m[\u001b[0m\u001b[1;34m\"date\"\u001b[0m\u001b[1;33m]\u001b[0m \u001b[1;33m==\u001b[0m \u001b[0mday\u001b[0m\u001b[1;33m]\u001b[0m\u001b[1;33m\u001b[0m\u001b[0m\n\u001b[1;32m----> 3\u001b[1;33m     \u001b[0mmessages\u001b[0m\u001b[1;33m,\u001b[0m \u001b[0mclusters\u001b[0m\u001b[1;33m,\u001b[0m \u001b[0mcluster_index\u001b[0m \u001b[1;33m=\u001b[0m \u001b[0mdo_stem\u001b[0m\u001b[1;33m(\u001b[0m\u001b[0mdata_1d\u001b[0m\u001b[1;33m)\u001b[0m\u001b[1;33m\u001b[0m\u001b[0m\n\u001b[0m\u001b[0;32m      4\u001b[0m \u001b[1;33m\u001b[0m\u001b[0m\n\u001b[0;32m      5\u001b[0m     \u001b[0mtfidf_vectorizer\u001b[0m \u001b[1;33m=\u001b[0m \u001b[0mTfidfVectorizer\u001b[0m\u001b[1;33m(\u001b[0m\u001b[1;33m)\u001b[0m\u001b[1;33m\u001b[0m\u001b[0m\n",
      "\u001b[1;32m<ipython-input-63-3b6b2328fd3b>\u001b[0m in \u001b[0;36mdo_stem\u001b[1;34m(df)\u001b[0m\n\u001b[0;32m      3\u001b[0m \u001b[1;32mdef\u001b[0m \u001b[0mdo_stem\u001b[0m\u001b[1;33m(\u001b[0m\u001b[0mdf\u001b[0m\u001b[1;33m)\u001b[0m\u001b[1;33m:\u001b[0m\u001b[1;33m\u001b[0m\u001b[0m\n\u001b[0;32m      4\u001b[0m     \u001b[0mcluster_index\u001b[0m \u001b[1;33m=\u001b[0m \u001b[1;33m{\u001b[0m\u001b[0mcluster\u001b[0m\u001b[1;33m:\u001b[0m \u001b[0mi\u001b[0m \u001b[1;32mfor\u001b[0m \u001b[0mi\u001b[0m\u001b[1;33m,\u001b[0m \u001b[0mcluster\u001b[0m \u001b[1;32min\u001b[0m \u001b[0menumerate\u001b[0m\u001b[1;33m(\u001b[0m\u001b[0mdf\u001b[0m\u001b[1;33m[\u001b[0m\u001b[1;34m\"cluster\"\u001b[0m\u001b[1;33m]\u001b[0m\u001b[1;33m.\u001b[0m\u001b[0munique\u001b[0m\u001b[1;33m(\u001b[0m\u001b[1;33m)\u001b[0m\u001b[1;33m)\u001b[0m\u001b[1;33m}\u001b[0m\u001b[1;33m\u001b[0m\u001b[0m\n\u001b[1;32m----> 5\u001b[1;33m     \u001b[0mmessages\u001b[0m \u001b[1;33m=\u001b[0m \u001b[1;33m[\u001b[0m\u001b[1;34m\"\"\u001b[0m\u001b[1;33m.\u001b[0m\u001b[0mjoin\u001b[0m\u001b[1;33m(\u001b[0m\u001b[0mm\u001b[0m\u001b[1;33m.\u001b[0m\u001b[0mlemmatize\u001b[0m\u001b[1;33m(\u001b[0m\u001b[0mrow\u001b[0m\u001b[1;33m[\u001b[0m\u001b[1;34m\"title\"\u001b[0m\u001b[1;33m]\u001b[0m \u001b[1;33m+\u001b[0m \u001b[1;34m\". \"\u001b[0m \u001b[1;33m+\u001b[0m \u001b[0mrow\u001b[0m\u001b[1;33m[\u001b[0m\u001b[1;34m\"text\"\u001b[0m\u001b[1;33m]\u001b[0m\u001b[1;33m)\u001b[0m\u001b[1;33m)\u001b[0m \u001b[1;32mfor\u001b[0m \u001b[0m_\u001b[0m\u001b[1;33m,\u001b[0m \u001b[0mrow\u001b[0m \u001b[1;32min\u001b[0m \u001b[0mdf\u001b[0m\u001b[1;33m.\u001b[0m\u001b[0miterrows\u001b[0m\u001b[1;33m(\u001b[0m\u001b[1;33m)\u001b[0m\u001b[1;33m]\u001b[0m\u001b[1;33m\u001b[0m\u001b[0m\n\u001b[0m\u001b[0;32m      6\u001b[0m     \u001b[0mclusters\u001b[0m \u001b[1;33m=\u001b[0m \u001b[1;33m[\u001b[0m\u001b[0mcluster_index\u001b[0m\u001b[1;33m[\u001b[0m\u001b[0mrow\u001b[0m\u001b[1;33m[\u001b[0m\u001b[1;34m\"cluster\"\u001b[0m\u001b[1;33m]\u001b[0m\u001b[1;33m]\u001b[0m \u001b[1;32mfor\u001b[0m \u001b[0m_\u001b[0m\u001b[1;33m,\u001b[0m \u001b[0mrow\u001b[0m \u001b[1;32min\u001b[0m \u001b[0mdf\u001b[0m\u001b[1;33m.\u001b[0m\u001b[0miterrows\u001b[0m\u001b[1;33m(\u001b[0m\u001b[1;33m)\u001b[0m\u001b[1;33m]\u001b[0m\u001b[1;33m\u001b[0m\u001b[0m\n\u001b[0;32m      7\u001b[0m     \u001b[1;32mreturn\u001b[0m \u001b[0mmessages\u001b[0m\u001b[1;33m,\u001b[0m \u001b[0mclusters\u001b[0m\u001b[1;33m,\u001b[0m \u001b[0mcluster_index\u001b[0m\u001b[1;33m\u001b[0m\u001b[0m\n",
      "\u001b[1;32m<ipython-input-63-3b6b2328fd3b>\u001b[0m in \u001b[0;36m<listcomp>\u001b[1;34m(.0)\u001b[0m\n\u001b[0;32m      3\u001b[0m \u001b[1;32mdef\u001b[0m \u001b[0mdo_stem\u001b[0m\u001b[1;33m(\u001b[0m\u001b[0mdf\u001b[0m\u001b[1;33m)\u001b[0m\u001b[1;33m:\u001b[0m\u001b[1;33m\u001b[0m\u001b[0m\n\u001b[0;32m      4\u001b[0m     \u001b[0mcluster_index\u001b[0m \u001b[1;33m=\u001b[0m \u001b[1;33m{\u001b[0m\u001b[0mcluster\u001b[0m\u001b[1;33m:\u001b[0m \u001b[0mi\u001b[0m \u001b[1;32mfor\u001b[0m \u001b[0mi\u001b[0m\u001b[1;33m,\u001b[0m \u001b[0mcluster\u001b[0m \u001b[1;32min\u001b[0m \u001b[0menumerate\u001b[0m\u001b[1;33m(\u001b[0m\u001b[0mdf\u001b[0m\u001b[1;33m[\u001b[0m\u001b[1;34m\"cluster\"\u001b[0m\u001b[1;33m]\u001b[0m\u001b[1;33m.\u001b[0m\u001b[0munique\u001b[0m\u001b[1;33m(\u001b[0m\u001b[1;33m)\u001b[0m\u001b[1;33m)\u001b[0m\u001b[1;33m}\u001b[0m\u001b[1;33m\u001b[0m\u001b[0m\n\u001b[1;32m----> 5\u001b[1;33m     \u001b[0mmessages\u001b[0m \u001b[1;33m=\u001b[0m \u001b[1;33m[\u001b[0m\u001b[1;34m\"\"\u001b[0m\u001b[1;33m.\u001b[0m\u001b[0mjoin\u001b[0m\u001b[1;33m(\u001b[0m\u001b[0mm\u001b[0m\u001b[1;33m.\u001b[0m\u001b[0mlemmatize\u001b[0m\u001b[1;33m(\u001b[0m\u001b[0mrow\u001b[0m\u001b[1;33m[\u001b[0m\u001b[1;34m\"title\"\u001b[0m\u001b[1;33m]\u001b[0m \u001b[1;33m+\u001b[0m \u001b[1;34m\". \"\u001b[0m \u001b[1;33m+\u001b[0m \u001b[0mrow\u001b[0m\u001b[1;33m[\u001b[0m\u001b[1;34m\"text\"\u001b[0m\u001b[1;33m]\u001b[0m\u001b[1;33m)\u001b[0m\u001b[1;33m)\u001b[0m \u001b[1;32mfor\u001b[0m \u001b[0m_\u001b[0m\u001b[1;33m,\u001b[0m \u001b[0mrow\u001b[0m \u001b[1;32min\u001b[0m \u001b[0mdf\u001b[0m\u001b[1;33m.\u001b[0m\u001b[0miterrows\u001b[0m\u001b[1;33m(\u001b[0m\u001b[1;33m)\u001b[0m\u001b[1;33m]\u001b[0m\u001b[1;33m\u001b[0m\u001b[0m\n\u001b[0m\u001b[0;32m      6\u001b[0m     \u001b[0mclusters\u001b[0m \u001b[1;33m=\u001b[0m \u001b[1;33m[\u001b[0m\u001b[0mcluster_index\u001b[0m\u001b[1;33m[\u001b[0m\u001b[0mrow\u001b[0m\u001b[1;33m[\u001b[0m\u001b[1;34m\"cluster\"\u001b[0m\u001b[1;33m]\u001b[0m\u001b[1;33m]\u001b[0m \u001b[1;32mfor\u001b[0m \u001b[0m_\u001b[0m\u001b[1;33m,\u001b[0m \u001b[0mrow\u001b[0m \u001b[1;32min\u001b[0m \u001b[0mdf\u001b[0m\u001b[1;33m.\u001b[0m\u001b[0miterrows\u001b[0m\u001b[1;33m(\u001b[0m\u001b[1;33m)\u001b[0m\u001b[1;33m]\u001b[0m\u001b[1;33m\u001b[0m\u001b[0m\n\u001b[0;32m      7\u001b[0m     \u001b[1;32mreturn\u001b[0m \u001b[0mmessages\u001b[0m\u001b[1;33m,\u001b[0m \u001b[0mclusters\u001b[0m\u001b[1;33m,\u001b[0m \u001b[0mcluster_index\u001b[0m\u001b[1;33m\u001b[0m\u001b[0m\n",
      "\u001b[1;32m/usr/local/lib/python3.5/dist-packages/pymystem3/mystem.py\u001b[0m in \u001b[0;36mlemmatize\u001b[1;34m(self, text)\u001b[0m\n\u001b[0;32m    248\u001b[0m         \u001b[0mneed_encode\u001b[0m \u001b[1;33m=\u001b[0m \u001b[1;33m(\u001b[0m\u001b[0msys\u001b[0m\u001b[1;33m.\u001b[0m\u001b[0mversion_info\u001b[0m\u001b[1;33m[\u001b[0m\u001b[1;36m0\u001b[0m\u001b[1;33m]\u001b[0m \u001b[1;33m<\u001b[0m \u001b[1;36m3\u001b[0m \u001b[1;32mand\u001b[0m \u001b[0misinstance\u001b[0m\u001b[1;33m(\u001b[0m\u001b[0mtext\u001b[0m\u001b[1;33m,\u001b[0m \u001b[0mstr\u001b[0m\u001b[1;33m)\u001b[0m\u001b[1;33m)\u001b[0m\u001b[1;33m\u001b[0m\u001b[0m\n\u001b[0;32m    249\u001b[0m \u001b[1;33m\u001b[0m\u001b[0m\n\u001b[1;32m--> 250\u001b[1;33m         \u001b[0minfos\u001b[0m \u001b[1;33m=\u001b[0m \u001b[0mself\u001b[0m\u001b[1;33m.\u001b[0m\u001b[0manalyze\u001b[0m\u001b[1;33m(\u001b[0m\u001b[0mtext\u001b[0m\u001b[1;33m)\u001b[0m\u001b[1;33m\u001b[0m\u001b[0m\n\u001b[0m\u001b[0;32m    251\u001b[0m         \u001b[0mlemmas\u001b[0m \u001b[1;33m=\u001b[0m \u001b[0mlist\u001b[0m\u001b[1;33m(\u001b[0m\u001b[0mfilter\u001b[0m\u001b[1;33m(\u001b[0m\u001b[1;32mNone\u001b[0m\u001b[1;33m,\u001b[0m \u001b[0mmap\u001b[0m\u001b[1;33m(\u001b[0m\u001b[0mself\u001b[0m\u001b[1;33m.\u001b[0m\u001b[0m_get_lemma\u001b[0m\u001b[1;33m,\u001b[0m \u001b[0minfos\u001b[0m\u001b[1;33m)\u001b[0m\u001b[1;33m)\u001b[0m\u001b[1;33m)\u001b[0m\u001b[1;33m\u001b[0m\u001b[0m\n\u001b[0;32m    252\u001b[0m \u001b[1;33m\u001b[0m\u001b[0m\n",
      "\u001b[1;32m/usr/local/lib/python3.5/dist-packages/pymystem3/mystem.py\u001b[0m in \u001b[0;36manalyze\u001b[1;34m(self, text)\u001b[0m\n\u001b[0;32m    233\u001b[0m         \u001b[0mresult\u001b[0m \u001b[1;33m=\u001b[0m \u001b[1;33m[\u001b[0m\u001b[1;33m]\u001b[0m\u001b[1;33m\u001b[0m\u001b[0m\n\u001b[0;32m    234\u001b[0m         \u001b[1;32mfor\u001b[0m \u001b[0mline\u001b[0m \u001b[1;32min\u001b[0m \u001b[0mtext\u001b[0m\u001b[1;33m.\u001b[0m\u001b[0msplitlines\u001b[0m\u001b[1;33m(\u001b[0m\u001b[1;33m)\u001b[0m\u001b[1;33m:\u001b[0m\u001b[1;33m\u001b[0m\u001b[0m\n\u001b[1;32m--> 235\u001b[1;33m             \u001b[0mresult\u001b[0m\u001b[1;33m.\u001b[0m\u001b[0mextend\u001b[0m\u001b[1;33m(\u001b[0m\u001b[0mself\u001b[0m\u001b[1;33m.\u001b[0m\u001b[0m_analyze_impl\u001b[0m\u001b[1;33m(\u001b[0m\u001b[0mline\u001b[0m\u001b[1;33m)\u001b[0m\u001b[1;33m)\u001b[0m\u001b[1;33m\u001b[0m\u001b[0m\n\u001b[0m\u001b[0;32m    236\u001b[0m         \u001b[1;32mreturn\u001b[0m \u001b[0mresult\u001b[0m\u001b[1;33m\u001b[0m\u001b[0m\n\u001b[0;32m    237\u001b[0m \u001b[1;33m\u001b[0m\u001b[0m\n",
      "\u001b[1;32m/usr/local/lib/python3.5/dist-packages/pymystem3/mystem.py\u001b[0m in \u001b[0;36m_analyze_impl\u001b[1;34m(self, text)\u001b[0m\n\u001b[0;32m    271\u001b[0m             \u001b[0mout\u001b[0m \u001b[1;33m=\u001b[0m \u001b[1;32mNone\u001b[0m\u001b[1;33m\u001b[0m\u001b[0m\n\u001b[0;32m    272\u001b[0m             \u001b[0mobj\u001b[0m \u001b[1;33m=\u001b[0m \u001b[1;32mNone\u001b[0m\u001b[1;33m\u001b[0m\u001b[0m\n\u001b[1;32m--> 273\u001b[1;33m             \u001b[0mselect\u001b[0m\u001b[1;33m.\u001b[0m\u001b[0mselect\u001b[0m\u001b[1;33m(\u001b[0m\u001b[1;33m[\u001b[0m\u001b[0mself\u001b[0m\u001b[1;33m.\u001b[0m\u001b[0m_procout_no\u001b[0m\u001b[1;33m]\u001b[0m\u001b[1;33m,\u001b[0m \u001b[1;33m[\u001b[0m\u001b[1;33m]\u001b[0m\u001b[1;33m,\u001b[0m \u001b[1;33m[\u001b[0m\u001b[1;33m]\u001b[0m\u001b[1;33m)\u001b[0m\u001b[1;33m\u001b[0m\u001b[0m\n\u001b[0m\u001b[0;32m    274\u001b[0m             \u001b[1;32mwhile\u001b[0m \u001b[1;32mTrue\u001b[0m\u001b[1;33m:\u001b[0m\u001b[1;33m\u001b[0m\u001b[0m\n\u001b[0;32m    275\u001b[0m                 \u001b[1;32mtry\u001b[0m\u001b[1;33m:\u001b[0m\u001b[1;33m\u001b[0m\u001b[0m\n",
      "\u001b[1;31mKeyboardInterrupt\u001b[0m: "
     ]
    }
   ],
   "source": [
    "res = print_performance_for_days_clsize(all_days, 3, 1.8)\n",
    "res = print_performance_for_days_clsize(all_days, 3, 1.9)\n",
    "res = print_performance_for_days_clsize(all_days, 3, 2.0)"
   ]
  },
  {
   "cell_type": "markdown",
   "metadata": {},
   "source": [
    "## Уточнение оценки производительности"
   ]
  },
  {
   "cell_type": "code",
   "execution_count": 52,
   "metadata": {
    "collapsed": false
   },
   "outputs": [
    {
     "name": "stdout",
     "output_type": "stream",
     "text": [
      "Всего дней: 38\n"
     ]
    }
   ],
   "source": [
    "all_days = [day for day, count in day_counts.items() if count <= 300]\n",
    "print(\"Всего дней:\", len(all_days))"
   ]
  },
  {
   "cell_type": "code",
   "execution_count": 31,
   "metadata": {
    "collapsed": true
   },
   "outputs": [],
   "source": [
    "def fair_performance_for_days(days, cutoff):\n",
    "    counts = [[0, 0], [0, 0]] # [ожидание][реальность]\n",
    "    for day in days:\n",
    "        tfidf_matrix, clusters = get_data_for_day(day)\n",
    "        dist_matrix = 1 - cosine_similarity(tfidf_matrix)\n",
    "        linkage_matrix = ward(dist_matrix)\n",
    "        labels = fcluster(linkage_matrix, cutoff, criterion='distance')\n",
    "        \n",
    "        for predicted, real, count in get_predicted_and_real_counts(clusters, labels):\n",
    "            counts[predicted][real] += count\n",
    "    \n",
    "    data_days = data[data[\"date\"].isin(days)]\n",
    "    for clsname, df in data_days.groupby(\"cluster\"):\n",
    "        rows = [row for _, row in df.iterrows()]\n",
    "        for r1, r2 in itertools.combinations(rows, 2):\n",
    "            if r1[\"date\"] != r2[\"date\"]:\n",
    "                counts[0][1] += 1\n",
    "    \n",
    "    counts[0][0] = len(data_days)*(len(data_days)-1)//2 - counts[0][1] - counts[1][0] - counts[1][1]\n",
    "    \n",
    "    table = ps.DataFrame(index=[0, 1], columns=[0, 1])\n",
    "    for i in range(2):\n",
    "        for j in range(2):\n",
    "            table[i][j] = counts[j][i]\n",
    "    \n",
    "    report = ps.DataFrame(index=[0, 1],\n",
    "                          columns=[\"precision\", \"recall\", \"f1-score\"], dtype=float)\n",
    "    for cls in range(2):\n",
    "        report.loc[cls][\"precision\"] = counts[cls][cls]/(counts[cls][0] + counts[cls][1])\n",
    "        report.loc[cls][\"recall\"] = counts[cls][cls]/(counts[0][cls] + counts[1][cls])\n",
    "        report.loc[cls][\"f1-score\"] = 2/(1/report.loc[cls][\"precision\"] + 1/report.loc[cls][\"recall\"])\n",
    "    \n",
    "    return report, table"
   ]
  },
  {
   "cell_type": "code",
   "execution_count": 32,
   "metadata": {
    "collapsed": true
   },
   "outputs": [],
   "source": [
    "def get_predicted_and_real_counts(cls_real, cls_pred):\n",
    "    assert len(cls_real) == len(cls_pred)\n",
    "    counts = [[0, 0], [0, 0]] # [ожидание][реальность]\n",
    "    for i1, i2 in itertools.combinations(range(len(cls_real)), 2):\n",
    "        pred = int(cls_pred[i1] == cls_pred[i2])\n",
    "        real = int(cls_real[i1] == cls_real[i2])\n",
    "        counts[pred][real] += 1\n",
    "    \n",
    "    for pred in range(2):\n",
    "        for real in range(2):\n",
    "            yield pred, real, counts[pred][real]"
   ]
  },
  {
   "cell_type": "code",
   "execution_count": 53,
   "metadata": {
    "collapsed": false
   },
   "outputs": [
    {
     "name": "stdout",
     "output_type": "stream",
     "text": [
      "   precision    recall  f1-score\n",
      "0   0.999951  0.999949  0.999950\n",
      "1   0.863229  0.868235  0.865724 \n",
      "\n",
      "          0     1\n",
      "0  8387125   409\n",
      "1      427  2695\n"
     ]
    }
   ],
   "source": [
    "report, table = fair_performance_for_days(all_days, 1.39)\n",
    "print(report, \"\\n\\n\", table)"
   ]
  },
  {
   "cell_type": "code",
   "execution_count": 98,
   "metadata": {
    "collapsed": true
   },
   "outputs": [],
   "source": [
    "def fair_performance_for_days_clsize(days, max_clsize, cutoff=None):\n",
    "    counts = [[0, 0], [0, 0]] # [ожидание][реальность]\n",
    "    for day in days:\n",
    "        tfidf_matrix, clusters = get_data_for_day(day)\n",
    "        dist_matrix = 1 - cosine_similarity(tfidf_matrix)\n",
    "        linkage_matrix = ward(dist_matrix)\n",
    "        labels = get_labels(linkage_matrix, tfidf_matrix.shape[0], max_clsize, cutoff)\n",
    "        \n",
    "        for predicted, real, count in get_predicted_and_real_counts(clusters, labels):\n",
    "            counts[predicted][real] += count\n",
    "    \n",
    "    data_days = data[data[\"date\"].isin(days)]\n",
    "    for clsname, df in data_days.groupby(\"cluster\"):\n",
    "        rows = [row for _, row in df.iterrows()]\n",
    "        for r1, r2 in itertools.combinations(rows, 2):\n",
    "            if r1[\"date\"] != r2[\"date\"]:\n",
    "                counts[0][1] += 1\n",
    "    \n",
    "    counts[0][0] = len(data_days)*(len(data_days)-1)//2 - counts[0][1] - counts[1][0] - counts[1][1]\n",
    "    \n",
    "    table = ps.DataFrame(index=[0, 1], columns=[0, 1])\n",
    "    for i in range(2):\n",
    "        for j in range(2):\n",
    "            table[i][j] = counts[j][i]\n",
    "    \n",
    "    report = ps.DataFrame(index=[0, 1],\n",
    "                          columns=[\"precision\", \"recall\", \"f1-score\"], dtype=float)\n",
    "    for cls in range(2):\n",
    "        report.loc[cls][\"precision\"] = counts[cls][cls]/(counts[cls][0] + counts[cls][1])\n",
    "        report.loc[cls][\"recall\"] = counts[cls][cls]/(counts[0][cls] + counts[1][cls])\n",
    "        report.loc[cls][\"f1-score\"] = 2/(1/report.loc[cls][\"precision\"] + 1/report.loc[cls][\"recall\"])\n",
    "    \n",
    "    return report, table"
   ]
  },
  {
   "cell_type": "code",
   "execution_count": 99,
   "metadata": {
    "collapsed": false
   },
   "outputs": [
    {
     "name": "stdout",
     "output_type": "stream",
     "text": [
      "   precision    recall  f1-score\n",
      "0   0.999943  0.999971  0.999957\n",
      "1   0.913967  0.845361  0.878326 \n",
      "\n",
      "          0     1\n",
      "0  8387305   480\n",
      "1      247  2624\n"
     ]
    }
   ],
   "source": [
    "report, table = fair_performance_for_days_clsize(all_days, 3, 1.39)\n",
    "print(report, \"\\n\\n\", table)"
   ]
  },
  {
   "cell_type": "markdown",
   "metadata": {},
   "source": [
    "## Сравнение производительности с SVM"
   ]
  },
  {
   "cell_type": "code",
   "execution_count": 36,
   "metadata": {
    "collapsed": false
   },
   "outputs": [
    {
     "name": "stdout",
     "output_type": "stream",
     "text": [
      "Число сообщений: 689\n"
     ]
    }
   ],
   "source": [
    "data_svm = ps.read_csv(\"../semantics/data/prepared-v4-1000-s700.csv\")\n",
    "ids = set(data_svm[\"id1\"]) | set(data_svm[\"id2\"])\n",
    "data_tfidf = data[data.index.isin(ids)]\n",
    "print(\"Число сообщений:\", len(data_tfidf))"
   ]
  },
  {
   "cell_type": "code",
   "execution_count": 37,
   "metadata": {
    "collapsed": false
   },
   "outputs": [
    {
     "name": "stdout",
     "output_type": "stream",
     "text": [
      "стоимость ростовский стадион к ЧМ-2018 мочь понижать на 3 миллиард рубль. министр строительство ростовский область николай безуглов рассказывать о то, как продвигаться строительство новый стадион к ЧМ-2018 в ростов. …николай безуглов рассказывать журналист о то, что...\n",
      "\n",
      "689 689\n"
     ]
    }
   ],
   "source": [
    "messages, clusters, cluster_index = do_stem(data_tfidf)\n",
    "print(messages[0])\n",
    "print(len(messages), len(clusters))"
   ]
  },
  {
   "cell_type": "code",
   "execution_count": 38,
   "metadata": {
    "collapsed": false
   },
   "outputs": [
    {
     "name": "stdout",
     "output_type": "stream",
     "text": [
      "(689, 4943)\n"
     ]
    }
   ],
   "source": [
    "tfidf_vectorizer = TfidfVectorizer(stop_words=nltk.corpus.stopwords.words('russian'))\n",
    "tfidf_matrix = tfidf_vectorizer.fit_transform(messages)\n",
    "print(tfidf_matrix.shape)"
   ]
  },
  {
   "cell_type": "code",
   "execution_count": 39,
   "metadata": {
    "collapsed": false
   },
   "outputs": [
    {
     "name": "stdout",
     "output_type": "stream",
     "text": [
      "Количество кластеров: 268\n"
     ]
    }
   ],
   "source": [
    "print(\"Количество кластеров:\", len(set(clusters)))"
   ]
  },
  {
   "cell_type": "code",
   "execution_count": 40,
   "metadata": {
    "collapsed": false
   },
   "outputs": [
    {
     "name": "stdout",
     "output_type": "stream",
     "text": [
      "             precision    recall  f1-score   support\n",
      "\n",
      "      False       1.00      1.00      1.00    236404\n",
      "       True       0.97      0.92      0.94       612\n",
      "\n",
      "avg / total       1.00      1.00      1.00    237016\n",
      "\n",
      "        False True \n",
      "False  236385    19\n",
      "True       52   560 \n",
      "\n",
      "\n"
     ]
    }
   ],
   "source": [
    "_ = print_performance(tfidf_matrix, clusters, 1.45)"
   ]
  },
  {
   "cell_type": "code",
   "execution_count": 41,
   "metadata": {
    "collapsed": false
   },
   "outputs": [
    {
     "name": "stdout",
     "output_type": "stream",
     "text": [
      "             precision    recall  f1-score   support\n",
      "\n",
      "      False       1.00      1.00      1.00    236404\n",
      "       True       0.96      0.84      0.90       612\n",
      "\n",
      "avg / total       1.00      1.00      1.00    237016\n",
      "\n",
      "        False True \n",
      "False  236384    20\n",
      "True       98   514 \n",
      "\n",
      "\n"
     ]
    }
   ],
   "source": [
    "_ = print_performance_clsize(tfidf_matrix, clusters, 3)"
   ]
  },
  {
   "cell_type": "markdown",
   "metadata": {},
   "source": [
    "## Оптимизация максимального расстояния"
   ]
  },
  {
   "cell_type": "code",
   "execution_count": 45,
   "metadata": {
    "collapsed": false
   },
   "outputs": [
    {
     "name": "stdout",
     "output_type": "stream",
     "text": [
      "[(1.0, 0.60424328147100426), (1.1, 0.69546101125048487), (1.2, 0.75685297258810957), (1.3, 0.79118432769367764), (1.4, 0.80105374077976821), (1.5, 0.77303281929616452), (1.6, 0.72024026210411352), (1.7, 0.62891395220443258), (1.8, 0.5254824991822048), (1.9, 0.41938161444283045), (2.0, 0.32210892419571574)]\n"
     ]
    }
   ],
   "source": [
    "fscores = []\n",
    "for i in range(10, 21):\n",
    "    cutoff = i/10\n",
    "    report, table = fair_performance_for_days(all_days, cutoff)\n",
    "    #fscores.append((cutoff, report.loc[1][\"f1-score\"]))\n",
    "print(fscores)"
   ]
  },
  {
   "cell_type": "code",
   "execution_count": 46,
   "metadata": {
    "collapsed": false
   },
   "outputs": [
    {
     "name": "stdout",
     "output_type": "stream",
     "text": [
      "[(1.3, 0.79118432769367764), (1.31, 0.79314159292035402), (1.32, 0.79639005062733881), (1.33, 0.79803707742639041), (1.34, 0.7980925544597377), (1.35, 0.79935240151106324), (1.36, 0.79969879518072273), (1.37, 0.800857908847185), (1.38, 0.80136329747576951), (1.39, 0.8020778119368176), (1.4, 0.80105374077976821), (1.41, 0.79995801847187242), (1.42, 0.79766374634960369), (1.43, 0.79477611940298509), (1.44, 0.79147797447509272), (1.45, 0.78785408599959228), (1.46, 0.78465120988154291), (1.47, 0.78246851385390437), (1.48, 0.78117788702718982), (1.49, 0.77773351921927902)]\n"
     ]
    }
   ],
   "source": [
    "fscores = []\n",
    "for i in range(130, 150):\n",
    "    cutoff = i/100\n",
    "    report, table = fair_performance_for_days(all_days, cutoff)\n",
    "    #fscores.append((cutoff, report.loc[1][\"f1-score\"]))\n",
    "print(fscores)"
   ]
  },
  {
   "cell_type": "markdown",
   "metadata": {},
   "source": [
    "# Проверка кластеризации подгрупп"
   ]
  },
  {
   "cell_type": "code",
   "execution_count": 58,
   "metadata": {
    "collapsed": true
   },
   "outputs": [],
   "source": [
    "def get_noun_messages(data_1d):\n",
    "    msg_nouns = [{\"id\": ind, \"nouns\": get_message_nouns(row[\"title\"] + \". \" + row[\"text\"])}\n",
    "                 for ind, row in data_1d.iterrows()]\n",
    "    noun_messages = {}\n",
    "    for msg in msg_nouns:\n",
    "        for noun in msg[\"nouns\"]:\n",
    "            if noun not in noun_messages:\n",
    "                noun_messages[noun] = []\n",
    "            noun_messages[noun].append(msg[\"id\"])\n",
    "    return noun_messages"
   ]
  },
  {
   "cell_type": "code",
   "execution_count": 60,
   "metadata": {
    "collapsed": true
   },
   "outputs": [],
   "source": [
    "stop_words = set(nltk.corpus.stopwords.words('russian'))\n",
    "\n",
    "def get_message_nouns(msg):\n",
    "    nouns = set()\n",
    "    words = m.analyze(msg)\n",
    "    for w in words:\n",
    "        if \"analysis\" not in w:\n",
    "            continue\n",
    "        if w[\"analysis\"] and \"S\" in w[\"analysis\"][0][\"gr\"]:\n",
    "            lex = w[\"analysis\"][0][\"lex\"]\n",
    "            if lex and len(lex) > 2 and lex not in stop_words:\n",
    "                nouns.add(lex)\n",
    "        #else:\n",
    "        #    nouns.add(w[\"text\"])\n",
    "    return nouns"
   ]
  },
  {
   "cell_type": "code",
   "execution_count": 111,
   "metadata": {
    "collapsed": false
   },
   "outputs": [
    {
     "name": "stdout",
     "output_type": "stream",
     "text": [
      "Сообщений в группе: 35\n",
      "             precision    recall  f1-score   support\n",
      "\n",
      "      False       0.99      0.98      0.99       581\n",
      "       True       0.45      0.64      0.53        14\n",
      "\n",
      "avg / total       0.98      0.97      0.98       595\n",
      "\n",
      "      False True \n",
      "False   570    11\n",
      "True      5     9 \n",
      "\n",
      "\n",
      "Сообщений в группе: 34\n",
      "             precision    recall  f1-score   support\n",
      "\n",
      "      False       1.00      0.99      0.99       544\n",
      "       True       0.71      0.88      0.79        17\n",
      "\n",
      "avg / total       0.99      0.99      0.99       561\n",
      "\n",
      "      False True \n",
      "False   538     6\n",
      "True      2    15 \n",
      "\n",
      "\n",
      "Сообщений в группе: 23\n",
      "             precision    recall  f1-score   support\n",
      "\n",
      "      False       1.00      0.97      0.99       248\n",
      "       True       0.42      1.00      0.59         5\n",
      "\n",
      "avg / total       0.99      0.97      0.98       253\n",
      "\n",
      "      False True \n",
      "False   241     7\n",
      "True      0     5 \n",
      "\n",
      "\n",
      "Сообщений в группе: 32\n",
      "             precision    recall  f1-score   support\n",
      "\n",
      "      False       0.99      0.98      0.98       482\n",
      "       True       0.39      0.50      0.44        14\n",
      "\n",
      "avg / total       0.97      0.96      0.97       496\n",
      "\n",
      "      False True \n",
      "False   471    11\n",
      "True      7     7 \n",
      "\n",
      "\n",
      "Сообщений в группе: 53\n",
      "             precision    recall  f1-score   support\n",
      "\n",
      "      False       1.00      0.99      0.99      1373\n",
      "       True       0.18      0.80      0.30         5\n",
      "\n",
      "avg / total       1.00      0.99      0.99      1378\n",
      "\n",
      "      False True \n",
      "False  1355    18\n",
      "True      1     4 \n",
      "\n",
      "\n",
      "Сообщений в группе: 21\n",
      "             precision    recall  f1-score   support\n",
      "\n",
      "      False       0.96      0.96      0.96       198\n",
      "       True       0.42      0.42      0.42        12\n",
      "\n",
      "avg / total       0.93      0.93      0.93       210\n",
      "\n",
      "      True  False\n",
      "True      5     7\n",
      "False     7   191 \n",
      "\n",
      "\n",
      "Сообщений в группе: 21\n",
      "             precision    recall  f1-score   support\n",
      "\n",
      "      False       1.00      0.97      0.98       209\n",
      "       True       0.12      1.00      0.22         1\n",
      "\n",
      "avg / total       1.00      0.97      0.98       210\n",
      "\n",
      "      False True \n",
      "False   202     7\n",
      "True      0     1 \n",
      "\n",
      "\n",
      "Сообщений в группе: 25\n",
      "             precision    recall  f1-score   support\n",
      "\n",
      "      False       1.00      0.99      0.99       289\n",
      "       True       0.73      1.00      0.85        11\n",
      "\n",
      "avg / total       0.99      0.99      0.99       300\n",
      "\n",
      "      False True \n",
      "False   285     4\n",
      "True      0    11 \n",
      "\n",
      "\n",
      "Сообщений в группе: 32\n",
      "             precision    recall  f1-score   support\n",
      "\n",
      "      False       1.00      0.98      0.99       487\n",
      "       True       0.41      0.78      0.54         9\n",
      "\n",
      "avg / total       0.99      0.98      0.98       496\n",
      "\n",
      "      False True \n",
      "False   477    10\n",
      "True      2     7 \n",
      "\n",
      "\n",
      "Сообщений в группе: 24\n",
      "             precision    recall  f1-score   support\n",
      "\n",
      "      False       1.00      0.97      0.99       272\n",
      "       True       0.33      1.00      0.50         4\n",
      "\n",
      "avg / total       0.99      0.97      0.98       276\n",
      "\n",
      "      False True \n",
      "False   264     8\n",
      "True      0     4 \n",
      "\n",
      "\n",
      "Сообщений в группе: 20\n",
      "             precision    recall  f1-score   support\n",
      "\n",
      "      False       0.99      0.96      0.98       186\n",
      "       True       0.30      0.75      0.43         4\n",
      "\n",
      "avg / total       0.98      0.96      0.97       190\n",
      "\n",
      "      False True \n",
      "False   179     7\n",
      "True      1     3 \n",
      "\n",
      "\n",
      "Сообщений в группе: 23\n",
      "             precision    recall  f1-score   support\n",
      "\n",
      "      False       1.00      1.00      1.00       242\n",
      "       True       0.92      1.00      0.96        11\n",
      "\n",
      "avg / total       1.00      1.00      1.00       253\n",
      "\n",
      "      False True \n",
      "False   241     1\n",
      "True      0    11 \n",
      "\n",
      "\n",
      "Сообщений в группе: 25\n",
      "             precision    recall  f1-score   support\n",
      "\n",
      "      False       0.99      0.99      0.99       288\n",
      "       True       0.67      0.67      0.67        12\n",
      "\n",
      "avg / total       0.97      0.97      0.97       300\n",
      "\n",
      "      False True \n",
      "False   284     4\n",
      "True      4     8 \n",
      "\n",
      "\n",
      "Сообщений в группе: 41\n",
      "             precision    recall  f1-score   support\n",
      "\n",
      "      False       1.00      0.99      0.99       807\n",
      "       True       0.45      0.77      0.57        13\n",
      "\n",
      "avg / total       0.99      0.98      0.98       820\n",
      "\n",
      "      False True \n",
      "False   795    12\n",
      "True      3    10 \n",
      "\n",
      "\n",
      "Сообщений в группе: 40\n",
      "             precision    recall  f1-score   support\n",
      "\n",
      "      False       0.99      0.99      0.99       762\n",
      "       True       0.55      0.67      0.60        18\n",
      "\n",
      "avg / total       0.98      0.98      0.98       780\n",
      "\n",
      "      False True \n",
      "False   752    10\n",
      "True      6    12 \n",
      "\n",
      "\n",
      "Сообщений в группе: 27\n",
      "             precision    recall  f1-score   support\n",
      "\n",
      "      False       1.00      0.98      0.99       342\n",
      "       True       0.57      0.89      0.70         9\n",
      "\n",
      "avg / total       0.99      0.98      0.98       351\n",
      "\n",
      "      False True \n",
      "False   336     6\n",
      "True      1     8 \n",
      "\n",
      "\n",
      "Сообщений в группе: 29\n",
      "             precision    recall  f1-score   support\n",
      "\n",
      "      False       0.97      0.97      0.97       389\n",
      "       True       0.32      0.35      0.33        17\n",
      "\n",
      "avg / total       0.94      0.94      0.94       406\n",
      "\n",
      "      False True \n",
      "False   376    13\n",
      "True     11     6 \n",
      "\n",
      "\n",
      "Сообщений в группе: 36\n",
      "             precision    recall  f1-score   support\n",
      "\n",
      "      False       0.97      0.98      0.97       603\n",
      "       True       0.30      0.22      0.26        27\n",
      "\n",
      "avg / total       0.94      0.94      0.94       630\n",
      "\n",
      "      False True \n",
      "False   589    14\n",
      "True     21     6 \n",
      "\n",
      "\n",
      "Сообщений в группе: 47\n",
      "             precision    recall  f1-score   support\n",
      "\n",
      "      False       0.99      0.99      0.99      1063\n",
      "       True       0.40      0.44      0.42        18\n",
      "\n",
      "avg / total       0.98      0.98      0.98      1081\n",
      "\n",
      "      False True \n",
      "False  1051    12\n",
      "True     10     8 \n",
      "\n",
      "\n",
      "Сообщений в группе: 46\n",
      "             precision    recall  f1-score   support\n",
      "\n",
      "      False       1.00      0.99      0.99      1012\n",
      "       True       0.60      0.78      0.68        23\n",
      "\n",
      "avg / total       0.99      0.98      0.98      1035\n",
      "\n",
      "      False True \n",
      "False  1000    12\n",
      "True      5    18 \n",
      "\n",
      "\n",
      "Сообщений в группе: 25\n",
      "             precision    recall  f1-score   support\n",
      "\n",
      "      False       1.00      0.96      0.98       294\n",
      "       True       0.35      1.00      0.52         6\n",
      "\n",
      "avg / total       0.99      0.96      0.97       300\n",
      "\n",
      "      False True \n",
      "False   283    11\n",
      "True      0     6 \n",
      "\n",
      "\n",
      "Сообщений в группе: 43\n",
      "             precision    recall  f1-score   support\n",
      "\n",
      "      False       1.00      0.99      1.00       896\n",
      "       True       0.50      1.00      0.67         7\n",
      "\n",
      "avg / total       1.00      0.99      0.99       903\n",
      "\n",
      "      False True \n",
      "False   889     7\n",
      "True      0     7 \n",
      "\n",
      "\n",
      "Сообщений в группе: 23\n",
      "             precision    recall  f1-score   support\n",
      "\n",
      "      False       0.98      0.98      0.98       245\n",
      "       True       0.40      0.50      0.44         8\n",
      "\n",
      "avg / total       0.97      0.96      0.96       253\n",
      "\n",
      "      False True \n",
      "False   239     6\n",
      "True      4     4 \n",
      "\n",
      "\n",
      "Сообщений в группе: 23\n",
      "             precision    recall  f1-score   support\n",
      "\n",
      "      False       1.00      0.98      0.99       251\n",
      "       True       0.29      1.00      0.44         2\n",
      "\n",
      "avg / total       0.99      0.98      0.99       253\n",
      "\n",
      "      False True \n",
      "False   246     5\n",
      "True      0     2 \n",
      "\n",
      "\n",
      "Сообщений в группе: 27\n",
      "             precision    recall  f1-score   support\n",
      "\n",
      "      False       1.00      0.99      0.99       340\n",
      "       True       0.77      0.91      0.83        11\n",
      "\n",
      "avg / total       0.99      0.99      0.99       351\n",
      "\n",
      "      False True \n",
      "False   337     3\n",
      "True      1    10 \n",
      "\n",
      "\n",
      "Сообщений в группе: 23\n",
      "             precision    recall  f1-score   support\n",
      "\n",
      "      False       1.00      0.98      0.99       249\n",
      "       True       0.40      1.00      0.57         4\n",
      "\n",
      "avg / total       0.99      0.98      0.98       253\n",
      "\n",
      "      False True \n",
      "False   243     6\n",
      "True      0     4 \n",
      "\n",
      "\n",
      "Сообщений в группе: 33\n",
      "             precision    recall  f1-score   support\n",
      "\n",
      "      False       1.00      0.98      0.99       516\n",
      "       True       0.53      0.83      0.65        12\n",
      "\n",
      "avg / total       0.99      0.98      0.98       528\n",
      "\n",
      "      False True \n",
      "False   507     9\n",
      "True      2    10 \n",
      "\n",
      "\n",
      "Сообщений в группе: 66\n",
      "             precision    recall  f1-score   support\n",
      "\n",
      "      False       1.00      0.99      1.00      2115\n",
      "       True       0.62      0.83      0.71        30\n",
      "\n",
      "avg / total       0.99      0.99      0.99      2145\n",
      "\n",
      "      False True \n",
      "False  2100    15\n",
      "True      5    25 \n",
      "\n",
      "\n",
      "Сообщений в группе: 50\n",
      "             precision    recall  f1-score   support\n",
      "\n",
      "      False       1.00      0.99      0.99      1204\n",
      "       True       0.53      0.76      0.63        21\n",
      "\n",
      "avg / total       0.99      0.98      0.99      1225\n",
      "\n",
      "      False True \n",
      "False  1190    14\n",
      "True      5    16 \n",
      "\n",
      "\n",
      "Сообщений в группе: 29\n",
      "             precision    recall  f1-score   support\n",
      "\n",
      "      False       0.97      0.97      0.97       389\n",
      "       True       0.33      0.29      0.31        17\n",
      "\n",
      "avg / total       0.94      0.95      0.94       406\n",
      "\n",
      "      False True \n",
      "False   379    10\n",
      "True     12     5 \n",
      "\n",
      "\n",
      "Сообщений в группе: 32\n",
      "             precision    recall  f1-score   support\n",
      "\n",
      "      False       1.00      0.99      0.99       492\n",
      "       True       0.36      1.00      0.53         4\n",
      "\n",
      "avg / total       0.99      0.99      0.99       496\n",
      "\n",
      "      False True \n",
      "False   485     7\n",
      "True      0     4 \n",
      "\n",
      "\n",
      "Сообщений в группе: 27\n",
      "             precision    recall  f1-score   support\n",
      "\n",
      "      False       0.96      0.98      0.97       331\n",
      "       True       0.38      0.25      0.30        20\n",
      "\n",
      "avg / total       0.92      0.93      0.93       351\n",
      "\n",
      "      False True \n",
      "False   323     8\n",
      "True     15     5 \n",
      "\n",
      "\n",
      "Сообщений в группе: 43\n",
      "             precision    recall  f1-score   support\n",
      "\n",
      "      False       1.00      0.99      0.99       884\n",
      "       True       0.60      0.79      0.68        19\n",
      "\n",
      "avg / total       0.99      0.98      0.99       903\n",
      "\n",
      "      False True \n",
      "False   874    10\n",
      "True      4    15 \n",
      "\n",
      "\n",
      "Сообщений в группе: 30\n",
      "             precision    recall  f1-score   support\n",
      "\n",
      "      False       1.00      0.98      0.99       425\n",
      "       True       0.53      0.80      0.64        10\n",
      "\n",
      "avg / total       0.98      0.98      0.98       435\n",
      "\n",
      "      False True \n",
      "False   418     7\n",
      "True      2     8 \n",
      "\n",
      "\n",
      "Сообщений в группе: 32\n",
      "             precision    recall  f1-score   support\n",
      "\n",
      "      False       1.00      1.00      1.00       488\n",
      "       True       0.75      0.75      0.75         8\n",
      "\n",
      "avg / total       0.99      0.99      0.99       496\n",
      "\n",
      "      False True \n",
      "False   486     2\n",
      "True      2     6 \n",
      "\n",
      "\n"
     ]
    }
   ],
   "source": [
    "data_1d = data[data[\"date\"] == \"2015-05-30\"]\n",
    "noun_messages = get_noun_messages(data_1d)\n",
    "groups = [msgs for msgs in noun_messages.values() if len(msgs) >= 20]\n",
    "for group in groups:\n",
    "    data_g = data_1d[data_1d.index.isin(group)]\n",
    "    print(\"Сообщений в группе:\", len(data_g))\n",
    "    messages, clusters, cluster_index = do_stem(data_g)\n",
    "    tfidf_vectorizer = TfidfVectorizer(stop_words=nltk.corpus.stopwords.words('russian'))\n",
    "    tfidf_matrix = tfidf_vectorizer.fit_transform(messages)\n",
    "    _ = print_performance_clsize(tfidf_matrix, clusters, 3, 1.3)"
   ]
  },
  {
   "cell_type": "code",
   "execution_count": 116,
   "metadata": {
    "collapsed": false
   },
   "outputs": [
    {
     "name": "stdout",
     "output_type": "stream",
     "text": [
      "Сообщений в группе: 261\n",
      "             precision    recall  f1-score   support\n",
      "\n",
      "      False       1.00      1.00      1.00     33842\n",
      "       True       0.57      0.73      0.64        88\n",
      "\n",
      "avg / total       1.00      1.00      1.00     33930\n",
      "\n",
      "       False True \n",
      "False  33794    48\n",
      "True      24    64 \n",
      "\n",
      "\n"
     ]
    }
   ],
   "source": [
    "data_g = data_1d[:len(data_1d)//2]\n",
    "print(\"Сообщений в группе:\", len(data_g))\n",
    "messages, clusters, cluster_index = do_stem(data_g)\n",
    "tfidf_vectorizer = TfidfVectorizer(stop_words=nltk.corpus.stopwords.words('russian'))\n",
    "tfidf_matrix = tfidf_vectorizer.fit_transform(messages)\n",
    "_ = print_performance_clsize(tfidf_matrix, clusters, 3, 1.2)"
   ]
  }
 ],
 "metadata": {
  "kernelspec": {
   "display_name": "Python 3",
   "language": "python",
   "name": "python3"
  },
  "language_info": {
   "codemirror_mode": {
    "name": "ipython",
    "version": 3
   },
   "file_extension": ".py",
   "mimetype": "text/x-python",
   "name": "python",
   "nbconvert_exporter": "python",
   "pygments_lexer": "ipython3",
   "version": "3.5.1+"
  }
 },
 "nbformat": 4,
 "nbformat_minor": 0
}
