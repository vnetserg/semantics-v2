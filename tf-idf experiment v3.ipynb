{
 "cells": [
  {
   "cell_type": "code",
   "execution_count": 8,
   "metadata": {
    "collapsed": true
   },
   "outputs": [],
   "source": [
    "import datetime, itertools, sys\n",
    "import pandas as ps\n",
    "from subprocess import Popen, PIPE\n",
    "from sklearn.feature_extraction.text import TfidfVectorizer\n",
    "from sklearn.metrics.pairwise import cosine_similarity\n",
    "from sklearn.metrics import classification_report\n",
    "from pymystem3 import Mystem"
   ]
  },
  {
   "cell_type": "code",
   "execution_count": 9,
   "metadata": {
    "collapsed": true
   },
   "outputs": [],
   "source": [
    "data = ps.read_csv(\"data/spelled-f.csv\", sep=';', header=None,\n",
    "                   index_col=0,names=['id','title','text','cluster','date','publisher'])"
   ]
  },
  {
   "cell_type": "markdown",
   "metadata": {},
   "source": [
    "## Предварительная очистка данных"
   ]
  },
  {
   "cell_type": "code",
   "execution_count": 10,
   "metadata": {
    "collapsed": false
   },
   "outputs": [
    {
     "name": "stdout",
     "output_type": "stream",
     "text": [
      "Число записей в таблице: 32317\n"
     ]
    }
   ],
   "source": [
    "data = data[~data[\"cluster\"].isin([\"-\", \"S\", \"Standard \"])]\n",
    "print(\"Число записей в таблице:\", len(data))"
   ]
  },
  {
   "cell_type": "code",
   "execution_count": 11,
   "metadata": {
    "collapsed": false
   },
   "outputs": [
    {
     "name": "stdout",
     "output_type": "stream",
     "text": [
      "Самый плотный день - 2016-01-27, число записей: 19846\n"
     ]
    }
   ],
   "source": [
    "day_counts = {}\n",
    "for _, row in data.iterrows():\n",
    "    day_counts[row[\"date\"]] = day_counts.get(row[\"date\"], 0) + 1\n",
    "max_date = max((count, date) for date, count in day_counts.items())[1]\n",
    "print(\"Самый плотный день - {}, число записей: {}\".format(max_date, day_counts[max_date]))"
   ]
  },
  {
   "cell_type": "code",
   "execution_count": 12,
   "metadata": {
    "collapsed": false
   },
   "outputs": [
    {
     "name": "stdout",
     "output_type": "stream",
     "text": [
      "Выбранный день - 2015-05-30, число записей: 523\n"
     ]
    }
   ],
   "source": [
    "appropriate_days = [date for date, count in day_counts.items() if 520 <= count <= 530]\n",
    "ch_day = appropriate_days[0]\n",
    "data_1d = data[data[\"date\"] == ch_day]\n",
    "print(\"Выбранный день - {}, число записей: {}\".format(ch_day, day_counts[ch_day]))"
   ]
  },
  {
   "cell_type": "markdown",
   "metadata": {},
   "source": [
    "## Лемматизация текстов"
   ]
  },
  {
   "cell_type": "code",
   "execution_count": 16,
   "metadata": {
    "collapsed": false
   },
   "outputs": [],
   "source": [
    "m = Mystem()\n",
    "cluster_index = {cluster: i for i, cluster in enumerate(data[\"cluster\"].unique())}\n",
    "clusters = [cluster_index[row[\"cluster\"]] for _, row in data_1d.iterrows()]\n",
    "messages = []\n",
    "must_have = [\"S\", \"V\", \"A\"]\n",
    "for _, row in data_1d.iterrows():\n",
    "    text = row[\"title\"] + \". \" + row[\"text\"]\n",
    "    words = []\n",
    "    for info in m.analyze(text):\n",
    "        try:\n",
    "            an = info[\"analysis\"][0]\n",
    "        except (KeyError, IndexError):\n",
    "            continue\n",
    "        if any(t in an[\"gr\"] for t in must_have):\n",
    "            words.append(an[\"lex\"])\n",
    "    messages.append(\" \".join(words))"
   ]
  },
  {
   "cell_type": "code",
   "execution_count": 17,
   "metadata": {
    "collapsed": false
   },
   "outputs": [
    {
     "name": "stdout",
     "output_type": "stream",
     "text": [
      "памятный комплекс чкаловец герой отечество открывать воронежский область многий воронежец внимательно следить соревнование летчик полигон погоновый мы открывать памятник герой советский союз дважды герой ссср герой россия выпускник\n",
      "523 523\n"
     ]
    }
   ],
   "source": [
    "print(messages[0])\n",
    "print(len(messages), len(clusters))"
   ]
  },
  {
   "cell_type": "markdown",
   "metadata": {},
   "source": [
    "## Построение матрицы TF*IDF"
   ]
  },
  {
   "cell_type": "code",
   "execution_count": 18,
   "metadata": {
    "collapsed": false
   },
   "outputs": [
    {
     "name": "stdout",
     "output_type": "stream",
     "text": [
      "(523, 3513)\n"
     ]
    }
   ],
   "source": [
    "tfidf_vectorizer = TfidfVectorizer()\n",
    "tfidf_matrix = tfidf_vectorizer.fit_transform(messages)\n",
    "print(tfidf_matrix.shape)"
   ]
  },
  {
   "cell_type": "markdown",
   "metadata": {},
   "source": [
    "## Эксперимент с косинусовой мерой"
   ]
  },
  {
   "cell_type": "code",
   "execution_count": 19,
   "metadata": {
    "collapsed": false
   },
   "outputs": [
    {
     "name": "stdout",
     "output_type": "stream",
     "text": [
      "Самый большой кластер - 'В Тюмени нарушитель угнал машину ДПС, пока оформлялся протокол' (1706)\n",
      "Численность - 3\n"
     ]
    }
   ],
   "source": [
    "index_cluster = {index: cluster for cluster, index in cluster_index.items()}\n",
    "cluster_counts = {}\n",
    "for cluster in clusters:\n",
    "    cluster_counts[cluster] = cluster_counts.get(cluster, 0) + 1\n",
    "max_cluster = max((count, cluster) for cluster, count in cluster_counts.items())[1]\n",
    "print(\"Самый большой кластер - '{}' ({})\\nЧисленность - {}\".format(\n",
    "        index_cluster[max_cluster], max_cluster, cluster_counts[max_cluster]))"
   ]
  },
  {
   "cell_type": "code",
   "execution_count": 20,
   "metadata": {
    "collapsed": false
   },
   "outputs": [
    {
     "name": "stdout",
     "output_type": "stream",
     "text": [
      "Все сообщения кластера:\n",
      "\n",
      "  тюмень пассажир останавливать лад время составление протокол угнать машина тот момент когда инспектор оформлять протокол задержание водитель останавливать лад ее пассажир воспользоваться момент попытаться скрываться отечественный машина тот\n",
      "  тюмень нарушитель угнать машина силовик составлять протокол силовик останавливать тонировать лад модель салон сидеть пьяный молодой человек который препятствовать составление протокол\n",
      "  угон полицейский машина тюмень оказываться утка представитель гибдд тюменский область опровергать информация угон автомобиль время составление административный протокол сегодня утро улица ватутин тюмень наряд быть\n"
     ]
    }
   ],
   "source": [
    "print(\"Все сообщения кластера:\\n\")\n",
    "for i, cluster in enumerate(clusters):\n",
    "    if cluster == max_cluster:\n",
    "        print(\"  \" + messages[i])"
   ]
  },
  {
   "cell_type": "code",
   "execution_count": 21,
   "metadata": {
    "collapsed": false
   },
   "outputs": [
    {
     "name": "stdout",
     "output_type": "stream",
     "text": [
      "1.0\n",
      "0.392630469105\n",
      "0.207949674337\n"
     ]
    }
   ],
   "source": [
    "target_messages = [i for i, cluster in enumerate(clusters) if cluster == max_cluster]\n",
    "ind = target_messages[0]\n",
    "sim_factors = cosine_similarity(tfidf_matrix[ind:ind+1], tfidf_matrix)\n",
    "for i in target_messages:\n",
    "    print(sim_factors[0][i])"
   ]
  },
  {
   "cell_type": "code",
   "execution_count": 22,
   "metadata": {
    "collapsed": false
   },
   "outputs": [
    {
     "name": "stdout",
     "output_type": "stream",
     "text": [
      "[(0.2, 3), (0.25, 2), (0.3, 2), (0.35, 2), (0.4, 1), (0.6, 1), (0.8, 1)]\n"
     ]
    }
   ],
   "source": [
    "th_values = (0.8, 0.6, 0.4, 0.35, 0.3, 0.25, 0.2)\n",
    "thresholds = {t: 0 for t in th_values}\n",
    "for sf in sim_factors[0]:\n",
    "    for th in th_values:\n",
    "        if sf >= th:\n",
    "            thresholds[th] += 1\n",
    "print(sorted(thresholds.items()))"
   ]
  },
  {
   "cell_type": "markdown",
   "metadata": {},
   "source": [
    "## Эксперимент на полноразмерных данных"
   ]
  },
  {
   "cell_type": "code",
   "execution_count": 23,
   "metadata": {
    "collapsed": true
   },
   "outputs": [],
   "source": [
    "sim_factors_full = cosine_similarity(tfidf_matrix, tfidf_matrix)"
   ]
  },
  {
   "cell_type": "code",
   "execution_count": 24,
   "metadata": {
    "collapsed": true
   },
   "outputs": [],
   "source": [
    "def get_expected_and_predicted(sim_factors, clusters, th=0.25):\n",
    "    res = {\"pair\": [], \"y\": [], \"p\": []}\n",
    "    for i1, i2 in itertools.combinations(range(len(sim_factors)), 2):\n",
    "        res[\"pair\"].append(sorted((i1, i2)))\n",
    "        res[\"y\"].append(clusters[i1] == clusters[i2])\n",
    "        res[\"p\"].append(sim_factors[i1][i2] >= th)\n",
    "    return ps.DataFrame(res, index=None)"
   ]
  },
  {
   "cell_type": "code",
   "execution_count": 25,
   "metadata": {
    "collapsed": true
   },
   "outputs": [],
   "source": [
    "def cross_class_report(res):\n",
    "    classes = res[\"y\"].unique()\n",
    "    table = ps.DataFrame(index=classes, columns=classes)\n",
    "    for true_cls in classes:\n",
    "        tmp = res[res[\"y\"] == true_cls]\n",
    "        for pred_cls in classes:\n",
    "            table[pred_cls][true_cls] = len(tmp[tmp[\"p\"] == pred_cls])\n",
    "    return table"
   ]
  },
  {
   "cell_type": "code",
   "execution_count": 26,
   "metadata": {
    "collapsed": false,
    "scrolled": false
   },
   "outputs": [
    {
     "name": "stdout",
     "output_type": "stream",
     "text": [
      "*** THRESHOLD: 0.25 ***\n",
      "             precision    recall  f1-score   support\n",
      "\n",
      "      False       1.00      1.00      1.00    136121\n",
      "       True       0.39      0.77      0.52       382\n",
      "\n",
      "avg / total       1.00      1.00      1.00    136503\n",
      "\n",
      "        False True \n",
      "False  135654   467\n",
      "True       87   295 \n",
      "\n",
      "\n",
      "*** THRESHOLD: 0.26 ***\n",
      "             precision    recall  f1-score   support\n",
      "\n",
      "      False       1.00      1.00      1.00    136121\n",
      "       True       0.40      0.76      0.52       382\n",
      "\n",
      "avg / total       1.00      1.00      1.00    136503\n",
      "\n",
      "        False True \n",
      "False  135684   437\n",
      "True       93   289 \n",
      "\n",
      "\n",
      "*** THRESHOLD: 0.27 ***\n",
      "             precision    recall  f1-score   support\n",
      "\n",
      "      False       1.00      1.00      1.00    136121\n",
      "       True       0.41      0.73      0.52       382\n",
      "\n",
      "avg / total       1.00      1.00      1.00    136503\n",
      "\n",
      "        False True \n",
      "False  135719   402\n",
      "True      103   279 \n",
      "\n",
      "\n",
      "*** THRESHOLD: 0.28 ***\n",
      "             precision    recall  f1-score   support\n",
      "\n",
      "      False       1.00      1.00      1.00    136121\n",
      "       True       0.43      0.72      0.53       382\n",
      "\n",
      "avg / total       1.00      1.00      1.00    136503\n",
      "\n",
      "        False True \n",
      "False  135751   370\n",
      "True      108   274 \n",
      "\n",
      "\n",
      "*** THRESHOLD: 0.29 ***\n",
      "             precision    recall  f1-score   support\n",
      "\n",
      "      False       1.00      1.00      1.00    136121\n",
      "       True       0.44      0.70      0.54       382\n",
      "\n",
      "avg / total       1.00      1.00      1.00    136503\n",
      "\n",
      "        False True \n",
      "False  135775   346\n",
      "True      114   268 \n",
      "\n",
      "\n",
      "*** THRESHOLD: 0.3 ***\n",
      "             precision    recall  f1-score   support\n",
      "\n",
      "      False       1.00      1.00      1.00    136121\n",
      "       True       0.44      0.69      0.54       382\n",
      "\n",
      "avg / total       1.00      1.00      1.00    136503\n",
      "\n",
      "        False True \n",
      "False  135791   330\n",
      "True      119   263 \n",
      "\n",
      "\n",
      "*** THRESHOLD: 0.31 ***\n",
      "             precision    recall  f1-score   support\n",
      "\n",
      "      False       1.00      1.00      1.00    136121\n",
      "       True       0.45      0.67      0.54       382\n",
      "\n",
      "avg / total       1.00      1.00      1.00    136503\n",
      "\n",
      "        False True \n",
      "False  135814   307\n",
      "True      127   255 \n",
      "\n",
      "\n",
      "*** THRESHOLD: 0.32 ***\n",
      "             precision    recall  f1-score   support\n",
      "\n",
      "      False       1.00      1.00      1.00    136121\n",
      "       True       0.46      0.64      0.54       382\n",
      "\n",
      "avg / total       1.00      1.00      1.00    136503\n",
      "\n",
      "        False True \n",
      "False  135837   284\n",
      "True      137   245 \n",
      "\n",
      "\n",
      "*** THRESHOLD: 0.33 ***\n",
      "             precision    recall  f1-score   support\n",
      "\n",
      "      False       1.00      1.00      1.00    136121\n",
      "       True       0.47      0.63      0.54       382\n",
      "\n",
      "avg / total       1.00      1.00      1.00    136503\n",
      "\n",
      "        False True \n",
      "False  135853   268\n",
      "True      142   240 \n",
      "\n",
      "\n",
      "*** THRESHOLD: 0.33999999999999997 ***\n",
      "             precision    recall  f1-score   support\n",
      "\n",
      "      False       1.00      1.00      1.00    136121\n",
      "       True       0.48      0.61      0.54       382\n",
      "\n",
      "avg / total       1.00      1.00      1.00    136503\n",
      "\n",
      "        False True \n",
      "False  135873   248\n",
      "True      150   232 \n",
      "\n",
      "\n",
      "*** THRESHOLD: 0.35 ***\n",
      "             precision    recall  f1-score   support\n",
      "\n",
      "      False       1.00      1.00      1.00    136121\n",
      "       True       0.49      0.58      0.53       382\n",
      "\n",
      "avg / total       1.00      1.00      1.00    136503\n",
      "\n",
      "        False True \n",
      "False  135889   232\n",
      "True      161   221 \n",
      "\n",
      "\n"
     ]
    }
   ],
   "source": [
    "th_values = [0.25 + 0.01*i for i in range(11)]\n",
    "for th in th_values:\n",
    "    res = get_expected_and_predicted(sim_factors_full, clusters, th)\n",
    "    print(\"*** THRESHOLD: {} ***\".format(th))\n",
    "    print(classification_report(res[\"y\"], res[\"p\"]))\n",
    "    print(cross_class_report(res), \"\\n\\n\")"
   ]
  }
 ],
 "metadata": {
  "kernelspec": {
   "display_name": "Python 3",
   "language": "python",
   "name": "python3"
  },
  "language_info": {
   "codemirror_mode": {
    "name": "ipython",
    "version": 3
   },
   "file_extension": ".py",
   "mimetype": "text/x-python",
   "name": "python",
   "nbconvert_exporter": "python",
   "pygments_lexer": "ipython3",
   "version": "3.5.1+"
  }
 },
 "nbformat": 4,
 "nbformat_minor": 0
}
