{
 "cells": [
  {
   "cell_type": "code",
   "execution_count": 1,
   "metadata": {
    "collapsed": true
   },
   "outputs": [],
   "source": [
    "import datetime, itertools, sys\n",
    "import pandas as ps\n",
    "from subprocess import Popen, PIPE\n",
    "from sklearn.feature_extraction.text import TfidfVectorizer\n",
    "from sklearn.metrics.pairwise import cosine_similarity\n",
    "from sklearn.metrics import classification_report\n",
    "from scipy.cluster.hierarchy import ward, dendrogram, fcluster\n",
    "from scipy.optimize import minimize\n",
    "import matplotlib.pyplot as plt\n",
    "from pymystem3 import Mystem\n",
    "import nltk"
   ]
  },
  {
   "cell_type": "code",
   "execution_count": 2,
   "metadata": {
    "collapsed": true
   },
   "outputs": [],
   "source": [
    "data = ps.read_csv(\"data/120k-utf8.csv\", sep=';', header=None,\n",
    "                   index_col=0,names=['id','title','text','cluster','date','publisher'])"
   ]
  },
  {
   "cell_type": "markdown",
   "metadata": {},
   "source": [
    "## Предварительная очистка данных"
   ]
  },
  {
   "cell_type": "code",
   "execution_count": 3,
   "metadata": {
    "collapsed": false
   },
   "outputs": [
    {
     "name": "stdout",
     "output_type": "stream",
     "text": [
      "Число записей в таблице: 61998\n"
     ]
    }
   ],
   "source": [
    "data = data[~data[\"cluster\"].isin([\"-\", \"S\", \"Standard \"])]\n",
    "print(\"Число записей в таблице:\", len(data))"
   ]
  },
  {
   "cell_type": "code",
   "execution_count": 4,
   "metadata": {
    "collapsed": false
   },
   "outputs": [
    {
     "name": "stdout",
     "output_type": "stream",
     "text": [
      "Самый плотный день - 2016-01-27, число записей: 37671\n"
     ]
    }
   ],
   "source": [
    "day_counts = {}\n",
    "for _, row in data.iterrows():\n",
    "    day_counts[row[\"date\"]] = day_counts.get(row[\"date\"], 0) + 1\n",
    "max_date = max((count, date) for date, count in day_counts.items())[1]\n",
    "print(\"Самый плотный день - {}, число записей: {}\".format(max_date, day_counts[max_date]))"
   ]
  },
  {
   "cell_type": "code",
   "execution_count": 7,
   "metadata": {
    "collapsed": false
   },
   "outputs": [
    {
     "name": "stdout",
     "output_type": "stream",
     "text": [
      "Выбранный день - 2015-08-25, число записей: 37\n"
     ]
    }
   ],
   "source": [
    "appropriate_days = [date for date, count in day_counts.items() if count == 37]\n",
    "ch_day = appropriate_days[0]\n",
    "data_1d = data[data[\"date\"] == ch_day]\n",
    "print(\"Выбранный день - {}, число записей: {}\".format(ch_day, day_counts[ch_day]))"
   ]
  },
  {
   "cell_type": "markdown",
   "metadata": {},
   "source": [
    "## Лемматизация текстов"
   ]
  },
  {
   "cell_type": "code",
   "execution_count": 8,
   "metadata": {
    "collapsed": false
   },
   "outputs": [],
   "source": [
    "m = Mystem()\n",
    "\n",
    "def do_stem(df):\n",
    "    cluster_index = {cluster: i for i, cluster in enumerate(df[\"cluster\"].unique())}\n",
    "    messages = [\"\".join(m.lemmatize(row[\"title\"] + \". \" + row[\"text\"])) for _, row in df.iterrows()]\n",
    "    clusters = [cluster_index[row[\"cluster\"]] for _, row in df.iterrows()]\n",
    "    return messages, clusters, cluster_index"
   ]
  },
  {
   "cell_type": "code",
   "execution_count": 9,
   "metadata": {
    "collapsed": false
   },
   "outputs": [
    {
     "name": "stdout",
     "output_type": "stream",
     "text": [
      "непереносимый Facebook. речь идти о «широкий круг вопрос», связывать с исполнение компания российский законодательство, в тот число и обновлять закон «о персональный данные», вступать в сила с 1 сентябрь...\n",
      "\n",
      "37 37\n"
     ]
    }
   ],
   "source": [
    "messages, clusters, cluster_index = do_stem(data_1d)\n",
    "print(messages[0])\n",
    "print(len(messages), len(clusters))"
   ]
  },
  {
   "cell_type": "markdown",
   "metadata": {},
   "source": [
    "## Построение матрицы TF*IDF"
   ]
  },
  {
   "cell_type": "code",
   "execution_count": 10,
   "metadata": {
    "collapsed": false
   },
   "outputs": [
    {
     "name": "stdout",
     "output_type": "stream",
     "text": [
      "(37, 620)\n"
     ]
    }
   ],
   "source": [
    "tfidf_vectorizer = TfidfVectorizer(stop_words=nltk.corpus.stopwords.words('russian'))\n",
    "tfidf_matrix = tfidf_vectorizer.fit_transform(messages)\n",
    "print(tfidf_matrix.shape)"
   ]
  },
  {
   "cell_type": "markdown",
   "metadata": {},
   "source": [
    "## Кластеризация с отсечением на основе расстояния"
   ]
  },
  {
   "cell_type": "code",
   "execution_count": 11,
   "metadata": {
    "collapsed": false
   },
   "outputs": [
    {
     "name": "stdout",
     "output_type": "stream",
     "text": [
      "Количество кластеров: 24\n"
     ]
    }
   ],
   "source": [
    "print(\"Количество кластеров:\", len(set(clusters)))"
   ]
  },
  {
   "cell_type": "code",
   "execution_count": 12,
   "metadata": {
    "collapsed": true
   },
   "outputs": [],
   "source": [
    "def marks_to_pairwise(y_cls, p_cls):\n",
    "    assert len(y_cls) == len(p_cls)\n",
    "    res = {\"ids\": [], \"y\": [], \"p\": []}\n",
    "    for i1, i2 in itertools.combinations(range(len(y_cls)), 2):\n",
    "        res[\"ids\"].append(sorted((i1, i2)))\n",
    "        res[\"y\"].append(bool(y_cls[i1] == y_cls[i2]))\n",
    "        res[\"p\"].append(bool(p_cls[i1] == p_cls[i2]))\n",
    "    return ps.DataFrame(res, index=None)"
   ]
  },
  {
   "cell_type": "code",
   "execution_count": 13,
   "metadata": {
    "collapsed": true
   },
   "outputs": [],
   "source": [
    "def cross_class_report(res):\n",
    "    classes = res[\"y\"].unique()\n",
    "    table = ps.DataFrame(index=classes, columns=classes)\n",
    "    for true_cls in classes:\n",
    "        tmp = res[res[\"y\"] == true_cls]\n",
    "        for pred_cls in classes:\n",
    "            table[pred_cls][true_cls] = len(tmp[tmp[\"p\"] == pred_cls])\n",
    "    return table"
   ]
  },
  {
   "cell_type": "code",
   "execution_count": 14,
   "metadata": {
    "collapsed": true
   },
   "outputs": [],
   "source": [
    "%matplotlib inline\n",
    "\n",
    "def plot_performance(tfidf_matrix, titles):\n",
    "    dist_matrix = 1 - cosine_similarity(tfidf_matrix)\n",
    "    linkage_matrix = ward(dist_matrix)\n",
    "    \n",
    "    fig, ax = plt.subplots(figsize=(15, 20))\n",
    "    ax = dendrogram(linkage_matrix, orientation=\"right\", labels=titles)\n",
    "    \n",
    "    plt.tick_params(\\\n",
    "        axis= 'x',          # changes apply to the x-axis\n",
    "        which='both',      # both major and minor ticks are affected\n",
    "        bottom='off',      # ticks along the bottom edge are off\n",
    "        top='off',         # ticks along the top edge are off\n",
    "        labelbottom='off')\n",
    "\n",
    "    plt.tight_layout() #show plot with tight layout\n",
    "    return linkage_matrix"
   ]
  },
  {
   "cell_type": "code",
   "execution_count": 15,
   "metadata": {
    "collapsed": true
   },
   "outputs": [],
   "source": [
    "def print_performance(tfidf_matrix, clusters, cutoff):\n",
    "    dist_matrix = 1 - cosine_similarity(tfidf_matrix)\n",
    "    linkage_matrix = ward(dist_matrix)\n",
    "    labels = fcluster(linkage_matrix, cutoff, criterion='distance')\n",
    "    res = marks_to_pairwise(clusters, labels)\n",
    "    print(classification_report(res[\"y\"], res[\"p\"]))\n",
    "    print(cross_class_report(res), \"\\n\\n\")\n",
    "    return res"
   ]
  },
  {
   "cell_type": "code",
   "execution_count": 33,
   "metadata": {
    "collapsed": false,
    "scrolled": true
   },
   "outputs": [
    {
     "name": "stdout",
     "output_type": "stream",
     "text": [
      "             precision    recall  f1-score   support\n",
      "\n",
      "      False       1.00      1.00      1.00       649\n",
      "       True       0.85      1.00      0.92        17\n",
      "\n",
      "avg / total       1.00      1.00      1.00       666\n",
      "\n",
      "      False True \n",
      "False   646     3\n",
      "True      0    17 \n",
      "\n",
      "\n"
     ]
    },
    {
     "data": {
      "image/png": "[encoded data removed]",
      "text/plain": [
       "<matplotlib.figure.Figure at 0x7fb0ce7d2198>"
      ]
     },
     "metadata": {},
     "output_type": "display_data"
    }
   ],
   "source": [
    "_ = plot_performance(tfidf_matrix, [row[\"title\"] for _, row in data_1d.iterrows()])\n",
    "_ = print_performance(tfidf_matrix, clusters, 1.3)"
   ]
  },
  {
   "cell_type": "markdown",
   "metadata": {},
   "source": [
    "## Отсечение на основе расстояния для нескольких дней"
   ]
  },
  {
   "cell_type": "code",
   "execution_count": 34,
   "metadata": {
    "collapsed": true
   },
   "outputs": [],
   "source": [
    "def get_prec_recall_f(res, cls):\n",
    "    pred = res[res[\"p\"] == cls]\n",
    "    prec = len(pred[pred[\"y\"] == cls]) / len(pred)\n",
    "    act = res[res[\"y\"] == cls]\n",
    "    rec = len(act[act[\"p\"] == cls]) / len(act)\n",
    "    return prec, rec, 2/(1/prec + 1/rec)"
   ]
  },
  {
   "cell_type": "code",
   "execution_count": 35,
   "metadata": {
    "collapsed": true
   },
   "outputs": [],
   "source": [
    "def get_data_for_day(day):\n",
    "    data_1d = data[data[\"date\"] == day]\n",
    "    messages, clusters, cluster_index = do_stem(data_1d)\n",
    "    \n",
    "    tfidf_vectorizer = TfidfVectorizer()\n",
    "    tfidf_matrix = tfidf_vectorizer.fit_transform(messages)\n",
    "    \n",
    "    return tfidf_matrix, clusters"
   ]
  },
  {
   "cell_type": "code",
   "execution_count": 36,
   "metadata": {
    "collapsed": true
   },
   "outputs": [],
   "source": [
    "def get_avg_prec_rec_f(scores):\n",
    "    total_pairs = sum(s[3]*(s[3]-1)//2 for s in scores)\n",
    "    avg_prec = sum(prec*(count*(count-1)//2)/total_pairs for prec, _, _, count in scores)\n",
    "    avg_rec = sum(rec*(count*(count-1)//2)/total_pairs for _, rec, _, count in scores)\n",
    "    avg_f = 2/(1/avg_prec + 1/avg_rec)\n",
    "    return avg_prec, avg_rec, avg_f"
   ]
  },
  {
   "cell_type": "code",
   "execution_count": 39,
   "metadata": {
    "collapsed": false
   },
   "outputs": [
    {
     "name": "stdout",
     "output_type": "stream",
     "text": [
      "Максимальный кластер: 788\n"
     ]
    }
   ],
   "source": [
    "days_to_check = ['2015-11-29', '2015-09-26', '2015-09-28', '2015-03-28', '2015-08-30',\n",
    "                '2015-10-25', '2015-06-25', '2015-05-25', '2015-05-26', '2015-05-30']\n",
    "mx = max(len(data[data[\"date\"] == day]) for day in days_to_check)\n",
    "print(\"Максимальный кластер:\", mx)"
   ]
  },
  {
   "cell_type": "code",
   "execution_count": 41,
   "metadata": {
    "collapsed": false,
    "scrolled": true
   },
   "outputs": [
    {
     "name": "stdout",
     "output_type": "stream",
     "text": [
      "День: 2015-11-29\n",
      "Число новостей: 48\n",
      "Кластеров:41\n",
      "             precision    recall  f1-score   support\n",
      "\n",
      "      False       1.00      0.99      0.99      1119\n",
      "       True       0.38      0.67      0.48         9\n",
      "\n",
      "avg / total       0.99      0.99      0.99      1128\n",
      "\n",
      "      False True \n",
      "False  1109    10\n",
      "True      3     6 \n",
      "\n",
      "\n",
      "День: 2015-09-26\n",
      "Число новостей: 48\n",
      "Кластеров:34\n",
      "             precision    recall  f1-score   support\n",
      "\n",
      "      False       1.00      1.00      1.00      1111\n",
      "       True       0.75      0.88      0.81        17\n",
      "\n",
      "avg / total       0.99      0.99      0.99      1128\n",
      "\n",
      "      False True \n",
      "False  1106     5\n",
      "True      2    15 \n",
      "\n",
      "\n",
      "День: 2015-09-28\n",
      "Число новостей: 102\n",
      "Кластеров:72\n",
      "             precision    recall  f1-score   support\n",
      "\n",
      "      False       1.00      1.00      1.00      5112\n",
      "       True       0.59      0.87      0.70        39\n",
      "\n",
      "avg / total       1.00      0.99      0.99      5151\n",
      "\n",
      "      False True \n",
      "False  5088    24\n",
      "True      5    34 \n",
      "\n",
      "\n",
      "День: 2015-03-28\n",
      "Число новостей: 104\n",
      "Кластеров:58\n",
      "             precision    recall  f1-score   support\n",
      "\n",
      "      False       1.00      1.00      1.00      5293\n",
      "       True       0.76      0.90      0.83        63\n",
      "\n",
      "avg / total       1.00      1.00      1.00      5356\n",
      "\n",
      "      False True \n",
      "False  5275    18\n",
      "True      6    57 \n",
      "\n",
      "\n",
      "День: 2015-08-30\n",
      "Число новостей: 178\n",
      "Кластеров:116\n",
      "             precision    recall  f1-score   support\n",
      "\n",
      "      False       1.00      1.00      1.00     15669\n",
      "       True       0.79      0.79      0.79        84\n",
      "\n",
      "avg / total       1.00      1.00      1.00     15753\n",
      "\n",
      "       False True \n",
      "False  15651    18\n",
      "True      18    66 \n",
      "\n",
      "\n",
      "День: 2015-10-25\n",
      "Число новостей: 206\n",
      "Кластеров:120\n",
      "             precision    recall  f1-score   support\n",
      "\n",
      "      False       1.00      1.00      1.00     21001\n",
      "       True       0.66      0.75      0.70       114\n",
      "\n",
      "avg / total       1.00      1.00      1.00     21115\n",
      "\n",
      "       False True \n",
      "False  20958    43\n",
      "True      29    85 \n",
      "\n",
      "\n",
      "День: 2015-06-25\n",
      "Число новостей: 565\n",
      "Кластеров:438\n",
      "             precision    recall  f1-score   support\n",
      "\n",
      "      False       1.00      1.00      1.00    159166\n",
      "       True       0.54      0.75      0.63       164\n",
      "\n",
      "avg / total       1.00      1.00      1.00    159330\n",
      "\n",
      "        False True \n",
      "False  159062   104\n",
      "True       41   123 \n",
      "\n",
      "\n",
      "День: 2015-05-25\n",
      "Число новостей: 592\n",
      "Кластеров:445\n",
      "             precision    recall  f1-score   support\n",
      "\n",
      "      False       1.00      1.00      1.00    174750\n",
      "       True       0.58      0.78      0.67       186\n",
      "\n",
      "avg / total       1.00      1.00      1.00    174936\n",
      "\n",
      "        False True \n",
      "False  174647   103\n",
      "True       41   145 \n",
      "\n",
      "\n",
      "День: 2015-05-26\n",
      "Число новостей: 671\n",
      "Кластеров:492\n",
      "             precision    recall  f1-score   support\n",
      "\n",
      "      False       1.00      1.00      1.00    224560\n",
      "       True       0.53      0.69      0.60       225\n",
      "\n",
      "avg / total       1.00      1.00      1.00    224785\n",
      "\n",
      "        False True \n",
      "False  224422   138\n",
      "True       69   156 \n",
      "\n",
      "\n",
      "День: 2015-05-30\n",
      "Число новостей: 788\n",
      "Кластеров:488\n",
      "             precision    recall  f1-score   support\n",
      "\n",
      "      False       1.00      1.00      1.00    309696\n",
      "       True       0.46      0.65      0.54       382\n",
      "\n",
      "avg / total       1.00      1.00      1.00    310078\n",
      "\n",
      "        False True \n",
      "False  309407   289\n",
      "True      132   250 \n",
      "\n",
      "\n"
     ]
    }
   ],
   "source": [
    "all_res = []\n",
    "for day in days_to_check:\n",
    "    tfidf_matrix, clusters = get_data_for_day(day)\n",
    "    print(\"День: {}\\nЧисло новостей: {}\\nКластеров:{}\".format(day, tfidf_matrix.shape[0], len(set(clusters))))\n",
    "    res = print_performance(tfidf_matrix, clusters, 1.3) \n",
    "    all_res.append(res)"
   ]
  },
  {
   "cell_type": "code",
   "execution_count": 42,
   "metadata": {
    "collapsed": false
   },
   "outputs": [
    {
     "name": "stdout",
     "output_type": "stream",
     "text": [
      "             precision    recall  f1-score   support\n",
      "\n",
      "      False       1.00      1.00      1.00    917477\n",
      "       True       0.55      0.73      0.63      1283\n",
      "\n",
      "avg / total       1.00      1.00      1.00    918760\n",
      "\n",
      "        False True \n",
      "False  916725   752\n",
      "True      346   937 \n",
      "\n",
      "\n"
     ]
    }
   ],
   "source": [
    "total_res = ps.concat(all_res)\n",
    "print(classification_report(total_res[\"y\"], total_res[\"p\"]))\n",
    "print(cross_class_report(total_res), \"\\n\\n\")"
   ]
  },
  {
   "cell_type": "markdown",
   "metadata": {},
   "source": [
    "## Отсечение на основе размера кластера"
   ]
  },
  {
   "cell_type": "code",
   "execution_count": 43,
   "metadata": {
    "collapsed": true
   },
   "outputs": [],
   "source": [
    "def get_labels(linkage_matrix, n_samples, max_cls_size):\n",
    "    clusters = {i: [i] for i in range(n_samples)}\n",
    "    for i, row in enumerate(linkage_matrix):\n",
    "        c1, c2, dist, cls_size = row\n",
    "        if cls_size <= max_cls_size:\n",
    "            clusters[n_samples+i] = clusters[c1] + clusters[c2]\n",
    "            del clusters[c1]\n",
    "            del clusters[c2]\n",
    "    labels = [None] * n_samples\n",
    "    for cls_num, objects in clusters.items():\n",
    "        for o in objects:\n",
    "            labels[o] = cls_num\n",
    "    return labels"
   ]
  },
  {
   "cell_type": "code",
   "execution_count": 44,
   "metadata": {
    "collapsed": true
   },
   "outputs": [],
   "source": [
    "def print_performance_clsize(tfidf_matrix, clusters, max_clsize):\n",
    "    dist_matrix = 1 - cosine_similarity(tfidf_matrix)\n",
    "    linkage_matrix = ward(dist_matrix)\n",
    "    labels = get_labels(linkage_matrix, tfidf_matrix.shape[0], max_clsize)\n",
    "    res = marks_to_pairwise(clusters, labels)\n",
    "    print(classification_report(res[\"y\"], res[\"p\"]))\n",
    "    print(cross_class_report(res), \"\\n\\n\")\n",
    "    return res"
   ]
  },
  {
   "cell_type": "code",
   "execution_count": 45,
   "metadata": {
    "collapsed": false
   },
   "outputs": [
    {
     "name": "stdout",
     "output_type": "stream",
     "text": [
      "День: 2015-05-30\n",
      "Число новостей: 48\n",
      "Кластеров:34\n",
      "             precision    recall  f1-score   support\n",
      "\n",
      "      False       1.00      0.99      0.99      1111\n",
      "       True       0.52      1.00      0.68        17\n",
      "\n",
      "avg / total       0.99      0.99      0.99      1128\n",
      "\n",
      "      False True \n",
      "False  1095    16\n",
      "True      0    17 \n",
      "\n",
      "\n"
     ]
    }
   ],
   "source": [
    "tfidf_matrix, clusters = get_data_for_day(\"2015-09-26\")\n",
    "print(\"День: {}\\nЧисло новостей: {}\\nКластеров:{}\".format(day, tfidf_matrix.shape[0], len(set(clusters))))\n",
    "_ = print_performance_clsize(tfidf_matrix, clusters, 3)"
   ]
  },
  {
   "cell_type": "code",
   "execution_count": 46,
   "metadata": {
    "collapsed": false,
    "scrolled": true
   },
   "outputs": [
    {
     "name": "stdout",
     "output_type": "stream",
     "text": [
      "День: 2015-11-29\n",
      "Число новостей: 48\n",
      "Кластеров:41\n",
      "             precision    recall  f1-score   support\n",
      "\n",
      "      False       1.00      0.97      0.99      1119\n",
      "       True       0.18      0.67      0.28         9\n",
      "\n",
      "avg / total       0.99      0.97      0.98      1128\n",
      "\n",
      "      False True \n",
      "False  1091    28\n",
      "True      3     6 \n",
      "\n",
      "\n",
      "День: 2015-09-26\n",
      "Число новостей: 48\n",
      "Кластеров:34\n",
      "             precision    recall  f1-score   support\n",
      "\n",
      "      False       1.00      0.99      0.99      1111\n",
      "       True       0.52      1.00      0.68        17\n",
      "\n",
      "avg / total       0.99      0.99      0.99      1128\n",
      "\n",
      "      False True \n",
      "False  1095    16\n",
      "True      0    17 \n",
      "\n",
      "\n",
      "День: 2015-09-28\n",
      "Число новостей: 102\n",
      "Кластеров:72\n",
      "             precision    recall  f1-score   support\n",
      "\n",
      "      False       1.00      0.99      1.00      5112\n",
      "       True       0.46      0.92      0.62        39\n",
      "\n",
      "avg / total       1.00      0.99      0.99      5151\n",
      "\n",
      "      False True \n",
      "False  5070    42\n",
      "True      3    36 \n",
      "\n",
      "\n",
      "День: 2015-03-28\n",
      "Число новостей: 104\n",
      "Кластеров:58\n",
      "             precision    recall  f1-score   support\n",
      "\n",
      "      False       1.00      0.99      1.00      5293\n",
      "       True       0.67      0.87      0.76        63\n",
      "\n",
      "avg / total       0.99      0.99      0.99      5356\n",
      "\n",
      "      False True \n",
      "False  5266    27\n",
      "True      8    55 \n",
      "\n",
      "\n",
      "День: 2015-08-30\n",
      "Число новостей: 178\n",
      "Кластеров:116\n",
      "             precision    recall  f1-score   support\n",
      "\n",
      "      False       1.00      1.00      1.00     15669\n",
      "       True       0.54      0.83      0.65        84\n",
      "\n",
      "avg / total       1.00      1.00      1.00     15753\n",
      "\n",
      "       False True \n",
      "False  15609    60\n",
      "True      14    70 \n",
      "\n",
      "\n",
      "День: 2015-10-25\n",
      "Число новостей: 206\n",
      "Кластеров:120\n",
      "             precision    recall  f1-score   support\n",
      "\n",
      "      False       1.00      1.00      1.00     21001\n",
      "       True       0.62      0.82      0.71       114\n",
      "\n",
      "avg / total       1.00      1.00      1.00     21115\n",
      "\n",
      "       False True \n",
      "False  20944    57\n",
      "True      20    94 \n",
      "\n",
      "\n",
      "День: 2015-06-25\n",
      "Число новостей: 565\n",
      "Кластеров:438\n",
      "             precision    recall  f1-score   support\n",
      "\n",
      "      False       1.00      1.00      1.00    159166\n",
      "       True       0.33      0.80      0.47       164\n",
      "\n",
      "avg / total       1.00      1.00      1.00    159330\n",
      "\n",
      "        False True \n",
      "False  158897   269\n",
      "True       32   132 \n",
      "\n",
      "\n",
      "День: 2015-05-25\n",
      "Число новостей: 592\n",
      "Кластеров:445\n",
      "             precision    recall  f1-score   support\n",
      "\n",
      "      False       1.00      1.00      1.00    174750\n",
      "       True       0.35      0.77      0.48       186\n",
      "\n",
      "avg / total       1.00      1.00      1.00    174936\n",
      "\n",
      "        False True \n",
      "False  174478   272\n",
      "True       42   144 \n",
      "\n",
      "\n",
      "День: 2015-05-26\n",
      "Число новостей: 671\n",
      "Кластеров:492\n",
      "             precision    recall  f1-score   support\n",
      "\n",
      "      False       1.00      1.00      1.00    224560\n",
      "       True       0.34      0.69      0.46       225\n",
      "\n",
      "avg / total       1.00      1.00      1.00    224785\n",
      "\n",
      "        False True \n",
      "False  224260   300\n",
      "True       70   155 \n",
      "\n",
      "\n",
      "День: 2015-05-30\n",
      "Число новостей: 788\n",
      "Кластеров:488\n",
      "             precision    recall  f1-score   support\n",
      "\n",
      "      False       1.00      1.00      1.00    309696\n",
      "       True       0.37      0.55      0.44       382\n",
      "\n",
      "avg / total       1.00      1.00      1.00    310078\n",
      "\n",
      "        False True \n",
      "False  309338   358\n",
      "True      173   209 \n",
      "\n",
      "\n"
     ]
    }
   ],
   "source": [
    "days_to_check = ['2015-11-29', '2015-09-26', '2015-09-28', '2015-03-28', '2015-08-30',\n",
    "                '2015-10-25', '2015-06-25', '2015-05-25', '2015-05-26', '2015-05-30']\n",
    "all_res = []\n",
    "for day in days_to_check:\n",
    "    tfidf_matrix, clusters = get_data_for_day(day)\n",
    "    print(\"День: {}\\nЧисло новостей: {}\\nКластеров:{}\".format(day, tfidf_matrix.shape[0], len(set(clusters))))\n",
    "    res = print_performance_clsize(tfidf_matrix, clusters, 3) \n",
    "    all_res.append(res)"
   ]
  },
  {
   "cell_type": "code",
   "execution_count": 47,
   "metadata": {
    "collapsed": false
   },
   "outputs": [
    {
     "name": "stdout",
     "output_type": "stream",
     "text": [
      "             precision    recall  f1-score   support\n",
      "\n",
      "      False       1.00      1.00      1.00    917477\n",
      "       True       0.39      0.72      0.51      1283\n",
      "\n",
      "avg / total       1.00      1.00      1.00    918760\n",
      "\n",
      "        False True \n",
      "False  916048  1429\n",
      "True      365   918 \n",
      "\n",
      "\n"
     ]
    }
   ],
   "source": [
    "total_res = ps.concat(all_res)\n",
    "print(classification_report(total_res[\"y\"], total_res[\"p\"]))\n",
    "print(cross_class_report(total_res), \"\\n\\n\")"
   ]
  },
  {
   "cell_type": "markdown",
   "metadata": {},
   "source": [
    "## Проверка производительности на почти всей выборке"
   ]
  },
  {
   "cell_type": "code",
   "execution_count": 48,
   "metadata": {
    "collapsed": false
   },
   "outputs": [
    {
     "name": "stdout",
     "output_type": "stream",
     "text": [
      "Всего дней: 42\n"
     ]
    }
   ],
   "source": [
    "all_days = [day for day, count in day_counts.items() if count <= 1000]\n",
    "print(\"Всего дней:\", len(all_days))"
   ]
  },
  {
   "cell_type": "code",
   "execution_count": 49,
   "metadata": {
    "collapsed": true
   },
   "outputs": [],
   "source": [
    "def print_performance_for_days(days, cutoff):\n",
    "    all_res = []\n",
    "    for day in days:\n",
    "        tfidf_matrix, clusters = get_data_for_day(day)\n",
    "        dist_matrix = 1 - cosine_similarity(tfidf_matrix)\n",
    "        linkage_matrix = ward(dist_matrix)\n",
    "        labels = fcluster(linkage_matrix, cutoff, criterion='distance')\n",
    "        res = marks_to_pairwise(clusters, labels)\n",
    "        all_res.append(res)\n",
    "    total_res = ps.concat(all_res)\n",
    "    print(classification_report(total_res[\"y\"], total_res[\"p\"]))\n",
    "    print(cross_class_report(total_res))\n",
    "    return res"
   ]
  },
  {
   "cell_type": "code",
   "execution_count": 50,
   "metadata": {
    "collapsed": false
   },
   "outputs": [
    {
     "name": "stdout",
     "output_type": "stream",
     "text": [
      "             precision    recall  f1-score   support\n",
      "\n",
      "      False       1.00      1.00      1.00   2865153\n",
      "       True       0.58      0.77      0.66      4288\n",
      "\n",
      "avg / total       1.00      1.00      1.00   2869441\n",
      "\n",
      "         False True \n",
      "False  2862770  2383\n",
      "True       988  3300\n"
     ]
    }
   ],
   "source": [
    "res = print_performance_for_days(all_days, 1.3)"
   ]
  },
  {
   "cell_type": "code",
   "execution_count": 51,
   "metadata": {
    "collapsed": true
   },
   "outputs": [],
   "source": [
    "def print_performance_for_days_clsize(days, max_clsize):\n",
    "    all_res = []\n",
    "    for day in days:\n",
    "        tfidf_matrix, clusters = get_data_for_day(day)\n",
    "        dist_matrix = 1 - cosine_similarity(tfidf_matrix)\n",
    "        linkage_matrix = ward(dist_matrix)\n",
    "        labels = get_labels(linkage_matrix, tfidf_matrix.shape[0], max_clsize)\n",
    "        res = marks_to_pairwise(clusters, labels)\n",
    "        all_res.append(res)\n",
    "    total_res = ps.concat(all_res)\n",
    "    print(classification_report(total_res[\"y\"], total_res[\"p\"]))\n",
    "    print(cross_class_report(total_res))\n",
    "    return res"
   ]
  },
  {
   "cell_type": "code",
   "execution_count": 52,
   "metadata": {
    "collapsed": false
   },
   "outputs": [
    {
     "name": "stdout",
     "output_type": "stream",
     "text": [
      "             precision    recall  f1-score   support\n",
      "\n",
      "      False       1.00      1.00      1.00   2865153\n",
      "       True       0.40      0.76      0.52      4288\n",
      "\n",
      "avg / total       1.00      1.00      1.00   2869441\n",
      "\n",
      "         False True \n",
      "False  2860201  4952\n",
      "True      1015  3273\n"
     ]
    }
   ],
   "source": [
    "res = print_performance_for_days_clsize(all_days, 3)"
   ]
  },
  {
   "cell_type": "markdown",
   "metadata": {},
   "source": [
    "## Уточнение оценки производительности"
   ]
  },
  {
   "cell_type": "code",
   "execution_count": 53,
   "metadata": {
    "collapsed": false
   },
   "outputs": [
    {
     "name": "stdout",
     "output_type": "stream",
     "text": [
      "Всего дней: 42\n"
     ]
    }
   ],
   "source": [
    "all_days = [day for day, count in day_counts.items() if count <= 1000]\n",
    "print(\"Всего дней:\", len(all_days))"
   ]
  },
  {
   "cell_type": "code",
   "execution_count": 54,
   "metadata": {
    "collapsed": true
   },
   "outputs": [],
   "source": [
    "def fair_performance_for_days(days, cutoff):\n",
    "    counts = [[0, 0], [0, 0]] # [ожидание][реальность]\n",
    "    for day in days:\n",
    "        tfidf_matrix, clusters = get_data_for_day(day)\n",
    "        dist_matrix = 1 - cosine_similarity(tfidf_matrix)\n",
    "        linkage_matrix = ward(dist_matrix)\n",
    "        labels = fcluster(linkage_matrix, cutoff, criterion='distance')\n",
    "        \n",
    "        for predicted, real, count in get_predicted_and_real_counts(clusters, labels):\n",
    "            counts[predicted][real] += count\n",
    "    \n",
    "    data_days = data[data[\"date\"].isin(days)]\n",
    "    for clsname, df in data_days.groupby(\"cluster\"):\n",
    "        rows = [row for _, row in df.iterrows()]\n",
    "        for r1, r2 in itertools.combinations(rows, 2):\n",
    "            if r1[\"date\"] != r2[\"date\"]:\n",
    "                counts[0][1] += 1\n",
    "    \n",
    "    counts[0][0] = len(data_days)*(len(data_days)-1)//2 - counts[0][1] - counts[1][0] - counts[1][1]\n",
    "    \n",
    "    table = ps.DataFrame(index=[0, 1], columns=[0, 1])\n",
    "    for i in range(2):\n",
    "        for j in range(2):\n",
    "            table[i][j] = counts[j][i]\n",
    "    \n",
    "    report = ps.DataFrame(index=[0, 1],\n",
    "                          columns=[\"precision\", \"recall\", \"f1-score\"], dtype=float)\n",
    "    for cls in range(2):\n",
    "        report.loc[cls][\"precision\"] = counts[cls][cls]/(counts[cls][0] + counts[cls][1])\n",
    "        report.loc[cls][\"recall\"] = counts[cls][cls]/(counts[0][cls] + counts[1][cls])\n",
    "        report.loc[cls][\"f1-score\"] = 2/(1/report.loc[cls][\"precision\"] + 1/report.loc[cls][\"recall\"])\n",
    "    \n",
    "    return report, table"
   ]
  },
  {
   "cell_type": "code",
   "execution_count": 55,
   "metadata": {
    "collapsed": true
   },
   "outputs": [],
   "source": [
    "def get_predicted_and_real_counts(cls_real, cls_pred):\n",
    "    assert len(cls_real) == len(cls_pred)\n",
    "    counts = [[0, 0], [0, 0]] # [ожидание][реальность]\n",
    "    for i1, i2 in itertools.combinations(range(len(cls_real)), 2):\n",
    "        pred = int(cls_pred[i1] == cls_pred[i2])\n",
    "        real = int(cls_real[i1] == cls_real[i2])\n",
    "        counts[pred][real] += 1\n",
    "    \n",
    "    for pred in range(2):\n",
    "        for real in range(2):\n",
    "            yield pred, real, counts[pred][real]"
   ]
  },
  {
   "cell_type": "code",
   "execution_count": 56,
   "metadata": {
    "collapsed": false
   },
   "outputs": [
    {
     "name": "stdout",
     "output_type": "stream",
     "text": [
      "   precision    recall  f1-score\n",
      "0   0.999980  0.999965  0.999972\n",
      "1   0.580679  0.710900  0.639225 \n",
      "\n",
      "           0     1\n",
      "0  67139641  1342\n",
      "1      2383  3300\n"
     ]
    }
   ],
   "source": [
    "report, table = fair_performance_for_days(all_days, 1.3)\n",
    "print(report, \"\\n\\n\", table)"
   ]
  },
  {
   "cell_type": "code",
   "execution_count": 57,
   "metadata": {
    "collapsed": true
   },
   "outputs": [],
   "source": [
    "def fair_performance_for_days_clsize(days, max_clsize):\n",
    "    counts = [[0, 0], [0, 0]] # [ожидание][реальность]\n",
    "    for day in days:\n",
    "        tfidf_matrix, clusters = get_data_for_day(day)\n",
    "        dist_matrix = 1 - cosine_similarity(tfidf_matrix)\n",
    "        linkage_matrix = ward(dist_matrix)\n",
    "        labels = get_labels(linkage_matrix, tfidf_matrix.shape[0], max_clsize)\n",
    "        \n",
    "        for predicted, real, count in get_predicted_and_real_counts(clusters, labels):\n",
    "            counts[predicted][real] += count\n",
    "    \n",
    "    data_days = data[data[\"date\"].isin(days)]\n",
    "    for clsname, df in data_days.groupby(\"cluster\"):\n",
    "        rows = [row for _, row in df.iterrows()]\n",
    "        for r1, r2 in itertools.combinations(rows, 2):\n",
    "            if r1[\"date\"] != r2[\"date\"]:\n",
    "                counts[0][1] += 1\n",
    "    \n",
    "    counts[0][0] = len(data_days)*(len(data_days)-1)//2 - counts[0][1] - counts[1][0] - counts[1][1]\n",
    "    \n",
    "    table = ps.DataFrame(index=[0, 1], columns=[0, 1])\n",
    "    for i in range(2):\n",
    "        for j in range(2):\n",
    "            table[i][j] = counts[j][i]\n",
    "    \n",
    "    report = ps.DataFrame(index=[0, 1],\n",
    "                          columns=[\"precision\", \"recall\", \"f1-score\"], dtype=float)\n",
    "    for cls in range(2):\n",
    "        report.loc[cls][\"precision\"] = counts[cls][cls]/(counts[cls][0] + counts[cls][1])\n",
    "        report.loc[cls][\"recall\"] = counts[cls][cls]/(counts[0][cls] + counts[1][cls])\n",
    "        report.loc[cls][\"f1-score\"] = 2/(1/report.loc[cls][\"precision\"] + 1/report.loc[cls][\"recall\"])\n",
    "    \n",
    "    return report, table"
   ]
  },
  {
   "cell_type": "code",
   "execution_count": 58,
   "metadata": {
    "collapsed": false
   },
   "outputs": [
    {
     "name": "stdout",
     "output_type": "stream",
     "text": [
      "   precision    recall  f1-score\n",
      "0   0.999980  0.999926  0.999953\n",
      "1   0.397933  0.705084  0.508743 \n",
      "\n",
      "           0     1\n",
      "0  67137072  1369\n",
      "1      4952  3273\n"
     ]
    }
   ],
   "source": [
    "report, table = fair_performance_for_days_clsize(all_days, 3)\n",
    "print(report, \"\\n\\n\", table)"
   ]
  }
 ],
 "metadata": {
  "kernelspec": {
   "display_name": "Python 3",
   "language": "python",
   "name": "python3"
  },
  "language_info": {
   "codemirror_mode": {
    "name": "ipython",
    "version": 3
   },
   "file_extension": ".py",
   "mimetype": "text/x-python",
   "name": "python",
   "nbconvert_exporter": "python",
   "pygments_lexer": "ipython3",
   "version": "3.5.1+"
  }
 },
 "nbformat": 4,
 "nbformat_minor": 0
}
