{
 "cells": [
  {
   "cell_type": "code",
   "execution_count": 114,
   "metadata": {
    "collapsed": true
   },
   "outputs": [],
   "source": [
    "import datetime, itertools, sys\n",
    "import pandas as ps\n",
    "from subprocess import Popen, PIPE\n",
    "from sklearn.feature_extraction.text import TfidfVectorizer\n",
    "from sklearn.metrics.pairwise import cosine_similarity\n",
    "from sklearn.metrics import classification_report\n",
    "from scipy.optimize import minimize\n",
    "from pymystem3 import Mystem"
   ]
  },
  {
   "cell_type": "code",
   "execution_count": 115,
   "metadata": {
    "collapsed": true
   },
   "outputs": [],
   "source": [
    "data = ps.read_csv(\"data/spelled-f.csv\", sep=';', header=None,\n",
    "                   index_col=0,names=['id','title','text','cluster','date','publisher'])"
   ]
  },
  {
   "cell_type": "markdown",
   "metadata": {},
   "source": [
    "## Предварительная очистка данных"
   ]
  },
  {
   "cell_type": "code",
   "execution_count": 116,
   "metadata": {
    "collapsed": false
   },
   "outputs": [
    {
     "name": "stdout",
     "output_type": "stream",
     "text": [
      "Число записей в таблице: 32317\n"
     ]
    }
   ],
   "source": [
    "data = data[~data[\"cluster\"].isin([\"-\", \"S\", \"Standard \"])]\n",
    "print(\"Число записей в таблице:\", len(data))"
   ]
  },
  {
   "cell_type": "code",
   "execution_count": 117,
   "metadata": {
    "collapsed": false
   },
   "outputs": [
    {
     "name": "stdout",
     "output_type": "stream",
     "text": [
      "Самый плотный день - 2016-01-27, число записей: 19846\n"
     ]
    }
   ],
   "source": [
    "day_counts = {}\n",
    "for _, row in data.iterrows():\n",
    "    day_counts[row[\"date\"]] = day_counts.get(row[\"date\"], 0) + 1\n",
    "max_date = max((count, date) for date, count in day_counts.items())[1]\n",
    "print(\"Самый плотный день - {}, число записей: {}\".format(max_date, day_counts[max_date]))"
   ]
  },
  {
   "cell_type": "code",
   "execution_count": 141,
   "metadata": {
    "collapsed": false
   },
   "outputs": [
    {
     "name": "stdout",
     "output_type": "stream",
     "text": [
      "Выбранный день - 2015-05-30, число записей: 523\n"
     ]
    }
   ],
   "source": [
    "appropriate_days = [date for date, count in day_counts.items() if 520 <= count <= 530]\n",
    "ch_day = appropriate_days[0]\n",
    "data_1d = data[data[\"date\"] == ch_day]\n",
    "print(\"Выбранный день - {}, число записей: {}\".format(ch_day, day_counts[ch_day]))"
   ]
  },
  {
   "cell_type": "markdown",
   "metadata": {},
   "source": [
    "## Лемматизация текстов"
   ]
  },
  {
   "cell_type": "code",
   "execution_count": 143,
   "metadata": {
    "collapsed": false
   },
   "outputs": [],
   "source": [
    "m = Mystem()\n",
    "cluster_index = {cluster: i for i, cluster in enumerate(data[\"cluster\"].unique())}\n",
    "messages = [\"\".join(m.lemmatize(row[\"title\"] + \". \" + row[\"text\"])) for _, row in data_1d.iterrows()]\n",
    "clusters = [cluster_index[row[\"cluster\"]] for _, row in data_1d.iterrows()]"
   ]
  },
  {
   "cell_type": "code",
   "execution_count": 144,
   "metadata": {
    "collapsed": false
   },
   "outputs": [
    {
     "name": "stdout",
     "output_type": "stream",
     "text": [
      "памятный комплекс «чкаловец — герой отечество» открывать в воронежский область. многий воронежец внимательно следить за соревнование летчик на полигон «погоновый». …«мы открывать памятник 262 герой советский союз, 12 дважды герой ссср и 13 герой россия - выпускник...\n",
      "\n",
      "523 523\n"
     ]
    }
   ],
   "source": [
    "print(messages[0])\n",
    "print(len(messages), len(clusters))"
   ]
  },
  {
   "cell_type": "markdown",
   "metadata": {},
   "source": [
    "## Построение матрицы TF*IDF"
   ]
  },
  {
   "cell_type": "code",
   "execution_count": 145,
   "metadata": {
    "collapsed": false
   },
   "outputs": [
    {
     "name": "stdout",
     "output_type": "stream",
     "text": [
      "(523, 3849)\n"
     ]
    }
   ],
   "source": [
    "tfidf_vectorizer = TfidfVectorizer()\n",
    "tfidf_matrix = tfidf_vectorizer.fit_transform(messages)\n",
    "print(tfidf_matrix.shape)"
   ]
  },
  {
   "cell_type": "markdown",
   "metadata": {},
   "source": [
    "## Эксперимент с косинусовой мерой"
   ]
  },
  {
   "cell_type": "code",
   "execution_count": 146,
   "metadata": {
    "collapsed": false
   },
   "outputs": [
    {
     "name": "stdout",
     "output_type": "stream",
     "text": [
      "Самый большой кластер - 'В Тюмени нарушитель угнал машину ДПС, пока оформлялся протокол' (1706)\n",
      "Численность - 3\n"
     ]
    }
   ],
   "source": [
    "index_cluster = {index: cluster for cluster, index in cluster_index.items()}\n",
    "cluster_counts = {}\n",
    "for cluster in clusters:\n",
    "    cluster_counts[cluster] = cluster_counts.get(cluster, 0) + 1\n",
    "max_cluster = max((count, cluster) for cluster, count in cluster_counts.items())[1]\n",
    "print(\"Самый большой кластер - '{}' ({})\\nЧисленность - {}\".format(\n",
    "        index_cluster[max_cluster], max_cluster, cluster_counts[max_cluster]))"
   ]
  },
  {
   "cell_type": "code",
   "execution_count": 147,
   "metadata": {
    "collapsed": false
   },
   "outputs": [
    {
     "name": "stdout",
     "output_type": "stream",
     "text": [
      "Все сообщения кластера:\n",
      "\n",
      "  в тюмень пассажир останавливать «лад» во время составление протокол «угнать» машина. в тот момент, когда инспектор ДПС оформлять протокол задержание на водитель останавливать «лад», ее пассажир, воспользоваться момент, попытаться скрываться на отечественный машина. …в тот...\n",
      "\n",
      "  в тюмень нарушитель угнать машина ДПС, пока силовик составлять протокол. силовик останавливать тонировать «лад» 13-ой модель. в салон сидеть трое пьяный молодой человек, который препятствовать составление протокол.\n",
      "\n",
      "  угон полицейский машина в тюмень оказываться «утка». представитель гибдд тюменский область опровергать информация об угон автомобиль ДПС во время составление административный протокол. сегодня утро на улица ватутин в тюмень наряд ДПС быть...\n",
      "\n"
     ]
    }
   ],
   "source": [
    "print(\"Все сообщения кластера:\\n\")\n",
    "for i, cluster in enumerate(clusters):\n",
    "    if cluster == max_cluster:\n",
    "        print(\"  \" + messages[i])"
   ]
  },
  {
   "cell_type": "code",
   "execution_count": 148,
   "metadata": {
    "collapsed": false
   },
   "outputs": [
    {
     "name": "stdout",
     "output_type": "stream",
     "text": [
      "1.0\n",
      "0.385132473118\n",
      "0.261807268993\n"
     ]
    }
   ],
   "source": [
    "target_messages = [i for i, cluster in enumerate(clusters) if cluster == max_cluster]\n",
    "ind = target_messages[0]\n",
    "sim_factors = cosine_similarity(tfidf_matrix[ind:ind+1], tfidf_matrix)\n",
    "for i in target_messages:\n",
    "    print(sim_factors[0][i])"
   ]
  },
  {
   "cell_type": "code",
   "execution_count": 149,
   "metadata": {
    "collapsed": false
   },
   "outputs": [
    {
     "name": "stdout",
     "output_type": "stream",
     "text": [
      "[(0.2, 3), (0.25, 3), (0.3, 2), (0.35, 2), (0.4, 1), (0.6, 1), (0.8, 1)]\n"
     ]
    }
   ],
   "source": [
    "th_values = (0.8, 0.6, 0.4, 0.35, 0.3, 0.25, 0.2)\n",
    "thresholds = {t: 0 for t in th_values}\n",
    "for sf in sim_factors[0]:\n",
    "    for th in th_values:\n",
    "        if sf >= th:\n",
    "            thresholds[th] += 1\n",
    "print(sorted(thresholds.items()))"
   ]
  },
  {
   "cell_type": "markdown",
   "metadata": {},
   "source": [
    "## Эксперимент на полноразмерных данных"
   ]
  },
  {
   "cell_type": "code",
   "execution_count": 150,
   "metadata": {
    "collapsed": true
   },
   "outputs": [],
   "source": [
    "sim_factors_full = cosine_similarity(tfidf_matrix, tfidf_matrix)"
   ]
  },
  {
   "cell_type": "code",
   "execution_count": 127,
   "metadata": {
    "collapsed": true
   },
   "outputs": [],
   "source": [
    "def get_expected_and_predicted(sim_factors, clusters, th=0.25):\n",
    "    #print(\"get_expected_and_predicted:\", len(sim_factors), len(clusters))\n",
    "    res = {\"pair\": [], \"y\": [], \"p\": []}\n",
    "    for i1, i2 in itertools.combinations(range(len(sim_factors)), 2):\n",
    "        res[\"pair\"].append(sorted((i1, i2)))\n",
    "        res[\"y\"].append(clusters[i1] == clusters[i2])\n",
    "        res[\"p\"].append(sim_factors[i1][i2] >= th)\n",
    "    return ps.DataFrame(res, index=None)"
   ]
  },
  {
   "cell_type": "code",
   "execution_count": 128,
   "metadata": {
    "collapsed": true
   },
   "outputs": [],
   "source": [
    "def cross_class_report(res):\n",
    "    classes = res[\"y\"].unique()\n",
    "    table = ps.DataFrame(index=classes, columns=classes)\n",
    "    for true_cls in classes:\n",
    "        tmp = res[res[\"y\"] == true_cls]\n",
    "        for pred_cls in classes:\n",
    "            table[pred_cls][true_cls] = len(tmp[tmp[\"p\"] == pred_cls])\n",
    "    return table"
   ]
  },
  {
   "cell_type": "code",
   "execution_count": 129,
   "metadata": {
    "collapsed": true
   },
   "outputs": [],
   "source": [
    "def get_prec_recall_f(res, cls):\n",
    "    pred = res[res[\"p\"] == cls]\n",
    "    prec = len(pred[pred[\"y\"] == cls]) / len(pred)\n",
    "    act = res[res[\"y\"] == cls]\n",
    "    rec = len(act[act[\"p\"] == cls]) / len(act)\n",
    "    return prec, rec, 2/(1/prec + 1/rec)"
   ]
  },
  {
   "cell_type": "code",
   "execution_count": 130,
   "metadata": {
    "collapsed": true
   },
   "outputs": [],
   "source": [
    "def get_performance_for_threshold(sim_factors, clusters, th):\n",
    "    res = get_expected_and_predicted(sim_factors, clusters, th)\n",
    "    return get_prec_recall_f(res, 1)"
   ]
  },
  {
   "cell_type": "code",
   "execution_count": 162,
   "metadata": {
    "collapsed": true
   },
   "outputs": [],
   "source": [
    "def optimise_threshold(sim_factors, clusters):\n",
    "    #print(\"optimise_threshold\", len(sim_factors), len(clusters))\n",
    "    f = lambda th: get_performance_for_threshold(sim_factors, clusters, th)[2]\n",
    "    fx = {}\n",
    "    for i in range(1, 9):\n",
    "        x = i*0.1\n",
    "        try:\n",
    "            fx[x] = f(x)\n",
    "        except ZeroDivisionError:\n",
    "            fx[x] = 0\n",
    "    best = sorted(((val, x) for x, val in fx.items()), reverse=True)\n",
    "    x1, x2 = sorted((best[0][1], best[1][1]))\n",
    "    return max((f(x*0.01), x*0.01) for x in range(int(x1*100), int(x2*100) + 1))[1]"
   ]
  },
  {
   "cell_type": "code",
   "execution_count": 163,
   "metadata": {
    "collapsed": false,
    "scrolled": false
   },
   "outputs": [
    {
     "name": "stdout",
     "output_type": "stream",
     "text": [
      "*** THRESHOLD: 0.31 ***\n",
      "             precision    recall  f1-score   support\n",
      "\n",
      "      False       1.00      1.00      1.00    136121\n",
      "       True       0.47      0.69      0.56       382\n",
      "\n",
      "avg / total       1.00      1.00      1.00    136503\n",
      "\n",
      "        False True \n",
      "False  135830   291\n",
      "True      119   263 \n",
      "\n",
      "\n"
     ]
    }
   ],
   "source": [
    "th = optimise_threshold(sim_factors_full, clusters)\n",
    "res = get_expected_and_predicted(sim_factors_full, clusters, th)\n",
    "print(\"*** THRESHOLD: {} ***\".format(th))\n",
    "print(classification_report(res[\"y\"], res[\"p\"]))\n",
    "print(cross_class_report(res), \"\\n\\n\")"
   ]
  },
  {
   "cell_type": "markdown",
   "metadata": {},
   "source": [
    "## Проверка на нескольких выборках"
   ]
  },
  {
   "cell_type": "code",
   "execution_count": 164,
   "metadata": {
    "collapsed": false
   },
   "outputs": [
    {
     "name": "stdout",
     "output_type": "stream",
     "text": [
      "[(2, '2015-01-22'), (11, '2015-10-29'), (15, '2015-11-29'), (17, '2015-01-23'), (17, '2015-08-28'), (18, '2015-09-29'), (22, '2015-01-24'), (22, '2015-08-25'), (24, '2015-04-30'), (25, '2015-09-26'), (28, '2015-10-26'), (28, '2015-11-28'), (38, '2015-10-30'), (41, '2015-09-30'), (48, '2015-03-30'), (51, '2015-09-28'), (75, '2015-03-28'), (81, '2015-12-23'), (82, '2015-03-26'), (87, '2015-11-27'), (94, '2015-11-30'), (102, '2015-08-30'), (104, '2016-02-06'), (111, '2015-08-29'), (118, '2015-11-26'), (119, '2015-09-27'), (121, '2015-11-25'), (144, '2015-10-25'), (164, '2015-06-26'), (217, '2015-06-25'), (226, '2015-05-27'), (236, '2015-05-28'), (240, '2015-03-25'), (259, '2015-05-25'), (262, '2015-02-27'), (279, '2015-02-25'), (281, '2015-05-29'), (288, '2015-02-26'), (315, '2015-05-26'), (393, '2015-03-29'), (523, '2015-05-30'), (536, '2015-02-28'), (1189, '2016-01-28'), (1865, '2016-01-26'), (3553, '2016-02-05'), (19846, '2016-01-27')]\n"
     ]
    }
   ],
   "source": [
    "print(sorted((count, day) for day, count in day_counts.items()))"
   ]
  },
  {
   "cell_type": "code",
   "execution_count": 165,
   "metadata": {
    "collapsed": true
   },
   "outputs": [],
   "source": [
    "def get_data_for_day(day):\n",
    "    data_1d = data[data[\"date\"] == day]\n",
    "    \n",
    "    cluster_index = {cluster: i for i, cluster in enumerate(data_1d[\"cluster\"].unique())}\n",
    "    messages = [\"\".join(m.lemmatize(row[\"title\"] + \". \" + row[\"text\"])) for _, row in data_1d.iterrows()]\n",
    "    clusters = [cluster_index[row[\"cluster\"]] for _, row in data_1d.iterrows()]\n",
    "    \n",
    "    tfidf_vectorizer = TfidfVectorizer()\n",
    "    tfidf_matrix = tfidf_vectorizer.fit_transform(messages)\n",
    "    sim_factors = cosine_similarity(tfidf_matrix, tfidf_matrix)\n",
    "    \n",
    "    return sim_factors, clusters"
   ]
  },
  {
   "cell_type": "code",
   "execution_count": 166,
   "metadata": {
    "collapsed": false,
    "scrolled": true
   },
   "outputs": [
    {
     "name": "stdout",
     "output_type": "stream",
     "text": [
      "День 2015-11-29, число сообщений: 15\n",
      "Порог: 0.3\n",
      "             precision    recall  f1-score   support\n",
      "\n",
      "      False       0.97      1.00      0.98        96\n",
      "       True       1.00      0.67      0.80         9\n",
      "\n",
      "avg / total       0.97      0.97      0.97       105\n",
      "\n",
      "      False True \n",
      "False    96     0\n",
      "True      3     6 \n",
      "\n",
      "\n",
      "День 2015-09-26, число сообщений: 25\n",
      "Порог: 0.18\n",
      "             precision    recall  f1-score   support\n",
      "\n",
      "      False       1.00      1.00      1.00       283\n",
      "       True       0.94      1.00      0.97        17\n",
      "\n",
      "avg / total       1.00      1.00      1.00       300\n",
      "\n",
      "      False True \n",
      "False   282     1\n",
      "True      0    17 \n",
      "\n",
      "\n",
      "День 2015-09-28, число сообщений: 51\n",
      "Порог: 0.21\n",
      "             precision    recall  f1-score   support\n",
      "\n",
      "      False       0.99      1.00      1.00      1236\n",
      "       True       0.86      0.82      0.84        39\n",
      "\n",
      "avg / total       0.99      0.99      0.99      1275\n",
      "\n",
      "      False True \n",
      "False  1231     5\n",
      "True      7    32 \n",
      "\n",
      "\n",
      "День 2015-03-28, число сообщений: 75\n",
      "Порог: 0.21\n",
      "             precision    recall  f1-score   support\n",
      "\n",
      "      False       1.00      1.00      1.00      2712\n",
      "       True       0.92      0.89      0.90        63\n",
      "\n",
      "avg / total       1.00      1.00      1.00      2775\n",
      "\n",
      "      False True \n",
      "False  2707     5\n",
      "True      7    56 \n",
      "\n",
      "\n",
      "День 2015-08-30, число сообщений: 102\n",
      "Порог: 0.21\n",
      "             precision    recall  f1-score   support\n",
      "\n",
      "      False       1.00      1.00      1.00      5067\n",
      "       True       0.75      0.87      0.81        84\n",
      "\n",
      "avg / total       0.99      0.99      0.99      5151\n",
      "\n",
      "      False True \n",
      "False  5043    24\n",
      "True     11    73 \n",
      "\n",
      "\n",
      "День 2015-10-25, число сообщений: 144\n",
      "Порог: 0.26\n",
      "             precision    recall  f1-score   support\n",
      "\n",
      "      False       1.00      1.00      1.00     10182\n",
      "       True       0.72      0.73      0.72       114\n",
      "\n",
      "avg / total       0.99      0.99      0.99     10296\n",
      "\n",
      "       False True \n",
      "False  10150    32\n",
      "True      31    83 \n",
      "\n",
      "\n",
      "День 2015-06-25, число сообщений: 217\n",
      "Порог: 0.21\n",
      "             precision    recall  f1-score   support\n",
      "\n",
      "      False       1.00      1.00      1.00     23272\n",
      "       True       0.82      0.80      0.81       164\n",
      "\n",
      "avg / total       1.00      1.00      1.00     23436\n",
      "\n",
      "       False True \n",
      "False  23244    28\n",
      "True      33   131 \n",
      "\n",
      "\n",
      "День 2015-05-25, число сообщений: 259\n",
      "Порог: 0.26\n",
      "             precision    recall  f1-score   support\n",
      "\n",
      "      False       1.00      1.00      1.00     33225\n",
      "       True       0.85      0.69      0.76       186\n",
      "\n",
      "avg / total       1.00      1.00      1.00     33411\n",
      "\n",
      "       False True \n",
      "False  33202    23\n",
      "True      57   129 \n",
      "\n",
      "\n",
      "День 2015-05-26, число сообщений: 315\n",
      "Порог: 0.25\n",
      "             precision    recall  f1-score   support\n",
      "\n",
      "      False       1.00      1.00      1.00     49230\n",
      "       True       0.63      0.73      0.68       225\n",
      "\n",
      "avg / total       1.00      1.00      1.00     49455\n",
      "\n",
      "       False True \n",
      "False  49135    95\n",
      "True      60   165 \n",
      "\n",
      "\n",
      "День 2015-05-30, число сообщений: 523\n",
      "Порог: 0.31\n",
      "             precision    recall  f1-score   support\n",
      "\n",
      "      False       1.00      1.00      1.00    136121\n",
      "       True       0.47      0.69      0.56       382\n",
      "\n",
      "avg / total       1.00      1.00      1.00    136503\n",
      "\n",
      "        False True \n",
      "False  135830   291\n",
      "True      119   263 \n",
      "\n",
      "\n"
     ]
    }
   ],
   "source": [
    "days_to_check = ['2015-11-29', '2015-09-26', '2015-09-28', '2015-03-28', '2015-08-30',\n",
    "                '2015-10-25', '2015-06-25', '2015-05-25', '2015-05-26', '2015-05-30']\n",
    "scores = []\n",
    "for day in days_to_check:\n",
    "    sim_factors, clusters = get_data_for_day(day)\n",
    "    th = optimise_threshold(sim_factors, clusters)\n",
    "    res = get_expected_and_predicted(sim_factors, clusters, th)\n",
    "    prec, recall, f = get_prec_recall_f(rems, 1)\n",
    "    scores.append((prec, recall, f, day_counts[day]))\n",
    "    print(\"День {}, число сообщений: {}\".format(day, day_counts[day]))\n",
    "    print(\"Порог: {}\".format(th))\n",
    "    print(classification_report(res[\"y\"], res[\"p\"]))\n",
    "    print(cross_class_report(res), \"\\n\\n\")"
   ]
  },
  {
   "cell_type": "code",
   "execution_count": 167,
   "metadata": {
    "collapsed": false
   },
   "outputs": [
    {
     "name": "stdout",
     "output_type": "stream",
     "text": [
      "Средняя точность: 0.6059880104001494\n",
      "Средняя полнота: 0.7156058808271637\n",
      "Средняя Ф-мера: 0.6488098181498925\n"
     ]
    }
   ],
   "source": [
    "total_pairs = sum(s[3]*(s[3]-1)//2 for s in scores)\n",
    "avg_prec = sum(prec*(count*(count-1)//2)/total_pairs for prec, _, _, count in scores)\n",
    "avg_rec = sum(rec*(count*(count-1)//2)/total_pairs for _, rec, _, count in scores)\n",
    "avg_f = sum(f*(count*(count-1)//2)/total_pairs for _, _, f, count in scores)\n",
    "print(\"Средняя точность:\", avg_prec)\n",
    "print(\"Средняя полнота:\", avg_rec)\n",
    "print(\"Средняя Ф-мера:\", avg_f)"
   ]
  },
  {
   "cell_type": "code",
   "execution_count": 94,
   "metadata": {
    "collapsed": false
   },
   "outputs": [
    {
     "name": "stdout",
     "output_type": "stream",
     "text": [
      "[(1.0, 0.3333333333333333, 0.25, 15), (1.0, 0.23529411764705882, 0.19047619047619047, 25), (1.0, 0.5897435897435898, 0.3709677419354839, 51), (0.9322033898305084, 0.873015873015873, 0.45081967213114754, 75), (0.7047619047619048, 0.8809523809523809, 0.39153439153439157, 102), (0.9555555555555556, 0.37719298245614036, 0.2704402515723271, 144), (0.7608695652173914, 0.8536585365853658, 0.40229885057471265, 217), (0.9022556390977443, 0.6451612903225806, 0.3761755485893417, 259), (0.697560975609756, 0.6355555555555555, 0.33255813953488367, 315), (0.4363905325443787, 0.7722513089005235, 0.27882797731569, 523)]\n"
     ]
    }
   ],
   "source": [
    "print(scores)"
   ]
  }
 ],
 "metadata": {
  "kernelspec": {
   "display_name": "Python 3",
   "language": "python",
   "name": "python3"
  },
  "language_info": {
   "codemirror_mode": {
    "name": "ipython",
    "version": 3
   },
   "file_extension": ".py",
   "mimetype": "text/x-python",
   "name": "python",
   "nbconvert_exporter": "python",
   "pygments_lexer": "ipython3",
   "version": "3.5.1+"
  }
 },
 "nbformat": 4,
 "nbformat_minor": 0
}
